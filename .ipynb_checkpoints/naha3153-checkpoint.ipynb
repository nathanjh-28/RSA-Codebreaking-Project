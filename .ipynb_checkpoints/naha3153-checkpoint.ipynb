{
 "cells": [
  {
   "cell_type": "markdown",
   "metadata": {},
   "source": [
    "## RSA - The Project"
   ]
  },
  {
   "cell_type": "markdown",
   "metadata": {},
   "source": [
    "Name:  Nathan Harris\n",
    "\n",
    "Moodle Email: naha3153@colorado.edu\n",
    "\n",
    "Name your file \"cuidentikey\".ipynb  This means YOUR identikey. \n",
    "\n",
    "**Do NOT delete instructions or pre-existing comments in the code.** \n"
   ]
  },
  {
   "cell_type": "markdown",
   "metadata": {},
   "source": [
    "<hr />\n",
    "\n",
    "# Table of Contents\n",
    "\n",
    "### 1. Introduction  (5 points)\n",
    "\n",
    "### 2. RSA Code Package    (10 points)\n",
    "###### &nbsp;&nbsp;&nbsp;&nbsp;&nbsp;&nbsp; 2.1 Basic tool set\n",
    "###### &nbsp;&nbsp;&nbsp;&nbsp;&nbsp;&nbsp; 2.2 First tool set\n",
    "###### &nbsp;&nbsp;&nbsp;&nbsp;&nbsp;&nbsp; 2.3 Second tool set\n",
    "\n",
    "### 3. RSA More Code  (10 points)\n",
    "\n",
    "###### &nbsp;&nbsp;&nbsp;&nbsp;&nbsp;&nbsp;  Encode\n",
    "###### &nbsp;&nbsp;&nbsp;&nbsp;&nbsp;&nbsp;  Decode\n",
    "\n",
    "### 4. Create a demo of encoding and decoding a message that highlights how your code works and the steps involved.   (10 points)\n",
    "\n",
    "### 5. Results of exchanging codes with others.  (5 points)\n",
    "\n",
    "### 6. Narrative (25 points)\n",
    "\n",
    "### 7. Why FME?  (5 points)\n",
    "\n",
    "### 8. How to break codes  (5 points)\n",
    "\n",
    "### 9. Code breaking complete examples  (5 points)\n",
    "\n",
    "### 10. Custom code feature / Advanced options  (15 points) \n"
   ]
  },
  {
   "cell_type": "markdown",
   "metadata": {},
   "source": [
    "\n",
    "\n",
    "\n",
    "\n",
    "\n",
    "\n",
    "### 1. Introduction to your RSA Package and Project.  Give an overview of your project and what you have learned. "
   ]
  },
  {
   "cell_type": "markdown",
   "metadata": {},
   "source": [
    "Write an introduction/overview here. This should be something someone who has never seen your project could read to understand what is coming. \n"
   ]
  },
  {
   "cell_type": "markdown",
   "metadata": {},
   "source": [
    "### Introduction:\n",
    "Welcome to my RSA Project!  RSA is a fascinating encryption and decryption process that has real world applications and direct ties to Number Theory.  I found that the experience of building this project showed that on the surface it can seem simple and easy (just C^D mod M!) but the more you tweak and polish and try to understand what's going on, the project begins to take a more difficult dimension.  \n",
    "\n",
    "First I go through the basic and intermediate functions necessary to build an RSA application.  Then I build an application with functions that produce variables needed to make public and private keys as well as functions to encode and decode messages with those keys.\n",
    "\n",
    "Next I go through examples, explain FME, and reveal a narrative of my experience with the project.  After that we get to experience code breaking and what is required to break RSA encryption (for small ish numbers).  \n",
    "\n",
    "Finally, we end with the custom feature where I have implemented Pollard's Rho to crack codes as well as redeveloped the RSA application in to a class where each set of keys and methods is it's own instance.  I also added optional arguments so that a user can choose not to input prime numbers to create keys and they will be generated randomly based on a limit.  My final demos include movie quotes that make me laugh.  Enjoy!"
   ]
  },
  {
   "cell_type": "markdown",
   "metadata": {},
   "source": [
    "### 2.1\n",
    "#### Basic tool set\n",
    "\n",
    "These are functions that you'll need to pre-process the messages before the messages are encoded and decoded by the RSA algorithm. That is the reason we will be defining them first.\n",
    "\n"
   ]
  },
  {
   "cell_type": "code",
   "execution_count": 1,
   "metadata": {},
   "outputs": [],
   "source": [
    "def Convert_Text(_string):\n",
    "    \"\"\"\n",
    "    Define this function such that it takes in a simple \n",
    "    string such as \"hello\" and outputs the corresponding\n",
    "    standard list of integers (ascii) for each letter in the word hello.\n",
    "    For example:\n",
    "    _string = hello\n",
    "    integer_list = [104, 101, 108, 108, 111]\n",
    "    \n",
    "    You may use \"ord()\"\n",
    "    \"\"\"\n",
    "    \n",
    "    # convert string of letters to list of integers\n",
    "    \n",
    "    integer_list = []\n",
    "    for char in _string:\n",
    "        integer_list.append(ord(char))\n",
    "    \n",
    "    return integer_list\n",
    "\n",
    "#print(Convert_Text(\"hello\"))"
   ]
  },
  {
   "cell_type": "code",
   "execution_count": 2,
   "metadata": {},
   "outputs": [],
   "source": [
    "def Convert_Num(_list):\n",
    "    \"\"\"\n",
    "    Do the opposite of what you did in the Convert_Text\n",
    "    function defined above.\n",
    "    \n",
    "    Define this function such that it takes in a list of integers\n",
    "    and outputs the corresponding string (ascii).\n",
    "    \n",
    "    For example:\n",
    "    _list = [104, 101, 108, 108, 111]\n",
    "    _string = hello\n",
    "    \"\"\"\n",
    "    # convert list of integers to a string of letters\n",
    "    \n",
    "    _string = ''\n",
    "    \n",
    "    for i in _list:\n",
    "        \n",
    "        _string += chr(i)\n",
    "    \n",
    "    return _string\n",
    "\n",
    "#print(Convert_Num([104, 101, 108, 108, 111]))"
   ]
  },
  {
   "cell_type": "code",
   "execution_count": 3,
   "metadata": {},
   "outputs": [],
   "source": [
    "def Convert_Binary_String(_int):\n",
    "    \"\"\"\n",
    "    Here, you need to define a function that converts an integer to\n",
    "    a string of its binary expansion.\n",
    "    \n",
    "    For example:\n",
    "    _int = 345\n",
    "    bits = 101011001\n",
    "    \"\"\"\n",
    "    \n",
    "    # convert an integer to a binary string\n",
    "    \n",
    "    bits_list = []\n",
    "    \n",
    "    while(_int > 0):\n",
    "        if _int % 2 == 1:\n",
    "            bits_list.insert(0,'1')\n",
    "        \n",
    "        else:\n",
    "            bits_list.insert(0,'0')\n",
    "        \n",
    "        _int = _int // 2\n",
    "        \n",
    "    bits = ''.join(bits_list)\n",
    "    \n",
    "    return bits\n",
    "\n",
    "#print(Convert_Binary_String(345),type(Convert_Binary_String(345)))"
   ]
  },
  {
   "cell_type": "markdown",
   "metadata": {},
   "source": [
    "Now that you're done with the basic toolset we'll move on to the first tool set which is actually involved in the RSA system."
   ]
  },
  {
   "cell_type": "markdown",
   "metadata": {},
   "source": [
    "### 2.2 \n",
    "#### First tool set.\n",
    "\n"
   ]
  },
  {
   "cell_type": "code",
   "execution_count": 4,
   "metadata": {},
   "outputs": [],
   "source": [
    "\"\"\"\n",
    "1. Using the fast modular exponentiation algorithm,\n",
    "the below function should return b**n mod m.\n",
    "As described on page 254. (however, you may input the exponent and \n",
    "then convert it to a string - the book verison imports the binary expansion)  \n",
    "2. You should use the function defined above Convert_Binary_String() if using the book algorithm.\n",
    "3. For this block you MUST use one of the 3 methods offered in the Mastery Workbook.\n",
    "4. Any method using bit-shifting or copied from the internet (even changing varibale names) will result in a 0.\n",
    "5. **If you are completely stuck, you may use pow() with a 10pt penalty.**\n",
    "\n",
    "You may use the function you developed in your Mastery Workbook - but be sure it is your own\n",
    "work, commented, etc. and change inputs as needed.\n",
    "\"\"\"\n",
    "    \n",
    "    # I used sriram's algorithm for FME\n",
    "    \n",
    "    #  inputs are b, the base, e, the exponent, and m the mod divisor\n",
    "    \n",
    "def FME(b, e, m):\n",
    "    \n",
    "    # initialize the result as 1, and the square as b, the same as b^1 % m\n",
    "    result, square = 1, b\n",
    "    \n",
    "    # iterate while we are expanding e in to binary, once expansion complete, we are done iterating.\n",
    "\n",
    "    while(e > 0):\n",
    "        # print(e)\n",
    "        \n",
    "        # check if e is odd, 1 instead of 0 in binary, if outputting to binary we would output 1\n",
    "        \n",
    "        if e % 2 == 1:\n",
    "            \n",
    "            # if odd then we multiply our result to the square and mod it\n",
    "            \n",
    "            result = (result * square) % m\n",
    "            \n",
    "        # If not odd, we move on to the next position and convert square to square^2 \n",
    "        \n",
    "        square = (square**2) % m\n",
    "        \n",
    "        # second step for binary expansion, without this we will have an infinite loop\n",
    "        \n",
    "        e = e // 2\n",
    "        \n",
    "    return result\n",
    "\n",
    "#print(pow(1661,555,17)==FME(1661,555,17))\n"
   ]
  },
  {
   "cell_type": "code",
   "execution_count": 5,
   "metadata": {},
   "outputs": [],
   "source": [
    "def Euclidean_Alg(a, b):\n",
    "    \"\"\"\n",
    "    1. Calculate the Greatest Common Divisor of a and b.\n",
    "    \n",
    "    2. This version should have only postive inputs and outputs.\n",
    "    \n",
    "    3. The function must return a single integer ('x') which is\n",
    "    the gcd of a and b.\n",
    "    \n",
    "    \"\"\"\n",
    "    # This is the algorithm from Rosen page 269\n",
    "    \n",
    "    # using a,b as well as x per the instructions.\n",
    "    \n",
    "    x, y = a, b\n",
    "    \n",
    "    while y != 0:\n",
    "        \n",
    "        r = x % y\n",
    "        \n",
    "        x = y\n",
    "        \n",
    "        y = r\n",
    "    \n",
    "    return x\n",
    "\n",
    "#print(\"actual output: \", Euclidean_Alg(662, 414),\"expected output: 2\")"
   ]
  },
  {
   "cell_type": "markdown",
   "metadata": {},
   "source": [
    "### 2.3\n",
    "#### Second tool set\n",
    "\n",
    "Here we will implement the core of the RSA cryptosystem. The functions below will generate the public and private key pairs which will then be used to create a ciphertext using the public key and then decode the same using the pirvate key.\n",
    "\n"
   ]
  },
  {
   "cell_type": "code",
   "execution_count": 6,
   "metadata": {},
   "outputs": [],
   "source": [
    "import random\n",
    "\n",
    "def Find_Public_Key_e(p, q,e=None):\n",
    "    \"\"\"\n",
    "    Implement this function such that\n",
    "    it takes 2 primes p and q.\n",
    "    \n",
    "    Use the gcd function that you have \n",
    "    defined before.\n",
    "    \n",
    "    The function should return 2 elements as follows:\n",
    "    public key: n\n",
    "    public key: e\n",
    "    \n",
    "    HINT: this function will run a loop to find e such \n",
    "    that e is relatively prime to (p - 1) (q - 1) \n",
    "    and not equal to p or q.\n",
    "    \n",
    "    NOTE: There are a number of ways to implement this key feature. \n",
    "    You, as the coder, can choose to how to acheive this goal.\n",
    "    \n",
    "    \"\"\"\n",
    "\n",
    "    \n",
    "    n = p*q\n",
    "    z = (p-1)*(q-1)\n",
    "    \n",
    "    # This allows for an optional starting point for e OR generates a random number\n",
    "    if e == None:\n",
    "        e = random.randint(3,z)\n",
    "    \n",
    "    # iterate from e to find a number that is rel prime to z\n",
    "    bool = True\n",
    "    while(bool):\n",
    "        if Euclidean_Alg(e, z) == 1 and e!= p and e != q:\n",
    "            bool = False\n",
    "        \n",
    "        else:\n",
    "            e += 1\n",
    "    \n",
    "    return (e,n)\n",
    "\n",
    "# Test\n",
    "#print(Euclidean_Alg( Find_Public_Key_e(617, 727)[0], ( (617-1) * (727-1)) ) == 1 )"
   ]
  },
  {
   "cell_type": "code",
   "execution_count": 7,
   "metadata": {},
   "outputs": [],
   "source": [
    "# helper function\n",
    "\n",
    "def extended_euclidean_algorithm(m,n):\n",
    "    # m > n > 0\n",
    "\n",
    "    # we initialize two versions of s and t\n",
    "    s_1, s_2 = 1,0\n",
    "    t_1, t_2 = 0,1\n",
    "    # q,k = None, None # For print statements\n",
    "    \n",
    "    # print(\" m \",\"|\",\" n \",\"|\", \" k \",\"|\", \" q \",\"|\", \" s1,t1 \",\"|\", \" s2,t2 \")\n",
    "    # print(m,\"|\",n,\"|\",k,\"|\",q,\"|\",s_1,\",\",t_1,\"|\",s_2,\",\",t_2)\n",
    "    \n",
    "    # same loop for original Euclidean algorithm\n",
    "    while n > 0:\n",
    "        k = m % n\n",
    "        # add q for equations below\n",
    "        q = m // n\n",
    "        \n",
    "        m = n\n",
    "        n = k\n",
    "        \n",
    "        # use hat for temporary variables since we need \n",
    "            # the originals for the equation\n",
    "        s_1_hat, t_1_hat = s_2,t_2\n",
    "        \n",
    "        # calculate new s2 and t2 with old s1,t1,s2,t2, \n",
    "            # and q variables\n",
    "        s_2_hat, t_2_hat = s_1 - q*s_2, t_1 - q*t_2\n",
    "        \n",
    "        # assign to temp variables\n",
    "        s_1,t_1 = s_1_hat, t_1_hat\n",
    "        \n",
    "        # assign to temp variables (I feel this line is \n",
    "            #redundant but I'll keep it here)\n",
    "        s_2, t_2 = s_2_hat, t_2_hat    \n",
    "        \n",
    "        # print(m,\"|\",n,\"|\",k,\"|\",q,\"|\",s_1,\",\",t_1,\"|\",s_2,\",\",t_2)\n",
    "    \n",
    "    # return the gcd and the bezout coefficients\n",
    "        \n",
    "    return m, s_1, t_1"
   ]
  },
  {
   "cell_type": "code",
   "execution_count": 8,
   "metadata": {},
   "outputs": [],
   "source": [
    "def Find_Private_Key_d(e, p, q):\n",
    "    \"\"\"\n",
    "    Implement this function to find the decryption exponent d, \n",
    "    such that d is the modular inverse of e. \n",
    "    \n",
    "    This will use the Extended Euclidean Algorithm\n",
    "    \n",
    "    This function should return the following:\n",
    "    d: the decryption component.\n",
    "    \n",
    "    This is not a single action, and there are multiple methods to create this. \n",
    "    \n",
    "    You may create a helper function or have all code within this function.\n",
    "    \n",
    "    Plan ahead before coding this.\n",
    "\n",
    "    \"\"\"\n",
    "    \n",
    "    # d is the modular inverse of e modulo (p-1)(q-1)\n",
    "\n",
    "    z = (p-1) * (q-1)\n",
    "    # Use the extended e algo to get a modular inverse\n",
    "    g,s,t = extended_euclidean_algorithm(e,z)\n",
    "    #Test that s is a modular inverse\n",
    "    if (e*s) % z == 1:\n",
    "        # Correct if negative\n",
    "        if s < 0:\n",
    "            while s < 0:\n",
    "                s += z\n",
    "        d = s\n",
    "    # Same as s, in case s is not the mod inv and t is\n",
    "    elif (e*t) % z == 1:\n",
    "        if t < 0:\n",
    "            while t < 0:\n",
    "                t += z\n",
    "        d = t\n",
    "    return d"
   ]
  },
  {
   "cell_type": "markdown",
   "metadata": {},
   "source": [
    "### 3.\n",
    "#### Putting things all together.\n",
    "\n",
    "1. In this part, you will define two functions `Encode` and `Decode` which will use the public and private keys that you calculated using the above 2 functions in the second toolset.\n",
    "2. Using the public key, the `Encode` function will encode a message and generate the corresponding cipher_text.\n",
    "3. Using the private key, the `Decode` function will decode a ciper_text and recover the original message.\n",
    "\n"
   ]
  },
  {
   "cell_type": "code",
   "execution_count": 9,
   "metadata": {},
   "outputs": [],
   "source": [
    "def Encode(n, e, message):\n",
    "    \"\"\"\n",
    "    Here, the message will be a string of characters.\n",
    "    Use the function Convert_Text from \n",
    "    the basic tool set and get a list of numbers.\n",
    "    \n",
    "    Encode each of these numbers using n and e and\n",
    "    return the encoded cipher_text.\n",
    "    \"\"\"\n",
    "    \n",
    "    cipher_text = []\n",
    "    \n",
    "    # Convert letters to integers\n",
    "    m_list = Convert_Text(message)\n",
    "    \n",
    "    # Iterate through integers and encrypt each integer\n",
    "    for num in m_list:\n",
    "        c = FME(num,e,n)\n",
    "        # Add them to the results list\n",
    "        cipher_text.append(c)\n",
    "    \n",
    "    return cipher_text"
   ]
  },
  {
   "cell_type": "code",
   "execution_count": 10,
   "metadata": {},
   "outputs": [],
   "source": [
    "def Decode(n, d, cipher_text):\n",
    "    \"\"\"\n",
    "    Here, the cipher_text will be a list of integers.\n",
    "    First, you will decrypt each of those integers using \n",
    "    n and d.\n",
    "    \n",
    "    Later, you will need to use the function Convert_Num from the \n",
    "    basic toolset to recover the original message as a string. \n",
    "    \n",
    "    \"\"\"\n",
    "    message_list = []\n",
    "    \n",
    "    # Iterate and decrypt each integer\n",
    "    for num in cipher_text:\n",
    "        m = FME(num,d,n)\n",
    "        message_list.append(m)\n",
    "        \n",
    "    # Convert integers back to text string    \n",
    "    message = Convert_Num(message_list)\n",
    "    \n",
    "    \n",
    "    return message"
   ]
  },
  {
   "cell_type": "markdown",
   "metadata": {
    "tags": []
   },
   "source": [
    "### 4.  Create a Demo \n",
    "This is a **step-by-step** guide to using your code with a specific example that we can follow using the functions you have created above in a mix of code and text blocks. \n",
    "\n",
    "**This is essentially a test that demonstates that your code works and how it works. You will call the functions above. You are not using a main function or custom feature here - just calling the functions.**\n",
    "\n",
    "Imagine you are showing me how you code works in person. \n",
    "Your function calls show how it works with an example.\n",
    "You text s what you would say to me.\n",
    "\n",
    "It is mix of code blocks and **text blocks** and must discuss all three parts of the project for full credit. You must **show and explain your method and demonstrate (by calling your function as an example.** for generating keys and how your encoding and decoding functions work. \n",
    "\n",
    "\n",
    "* Generate keys. \n",
    "\n",
    "* Encode a message.\n",
    "\n",
    "* Decode the same message. \n"
   ]
  },
  {
   "cell_type": "markdown",
   "metadata": {},
   "source": [
    "### Code Demonstration\n",
    "In order to start forming our public key and private key, we must select two prime numbers, p and q.  With p and q, we can form n and (p-1) * (q-1), which I will shorten to z."
   ]
  },
  {
   "cell_type": "code",
   "execution_count": 11,
   "metadata": {},
   "outputs": [
    {
     "name": "stdout",
     "output_type": "stream",
     "text": [
      "p:  3347 q:  7589 n:  25400383 \n",
      "z or (p-1)*(q-1):  25389448\n"
     ]
    }
   ],
   "source": [
    "# Initialize some variables, I like to use z as a shorthand\n",
    "p,q = 3347,7589\n",
    "n = p*q\n",
    "z = (p-1)*(q-1)\n",
    "\n",
    "print(\"p: \", p, \"q: \", q, \"n: \", n, \"\\nz or (p-1)*(q-1): \", z)"
   ]
  },
  {
   "cell_type": "markdown",
   "metadata": {},
   "source": [
    "Now that we have our p and q, we can form a public key using the Find_Public_Key_e function which returns e and n.  In this implementation I am selecting a pseudo random candidate for e and iterating until it is relatively prime with z, (p-1) * (q-1)."
   ]
  },
  {
   "cell_type": "code",
   "execution_count": 12,
   "metadata": {},
   "outputs": [
    {
     "name": "stdout",
     "output_type": "stream",
     "text": [
      "Public Key e,n :\n",
      " (18713347, 25400383)\n"
     ]
    }
   ],
   "source": [
    "# Generate Public Key\n",
    "demo_public_key = Find_Public_Key_e(p, q)\n",
    "print(\"Public Key e,n :\\n\", demo_public_key)\n",
    "e,n = demo_public_key"
   ]
  },
  {
   "cell_type": "markdown",
   "metadata": {},
   "source": [
    "Now that we have a public key and a number for e, we need to form the private key with the modular inverse of e mod z.  The function Find_Private_Key_d returns d and we will use n to form the full private key.  "
   ]
  },
  {
   "cell_type": "code",
   "execution_count": 13,
   "metadata": {},
   "outputs": [
    {
     "name": "stdout",
     "output_type": "stream",
     "text": [
      "Private Key d,n :\n",
      " (10524539, 25400383)\n"
     ]
    }
   ],
   "source": [
    "# Generate Private Key\n",
    "d = Find_Private_Key_d(e, p, q)\n",
    "demo_private_key = (d,n)\n",
    "print(\"Private Key d,n :\\n\",demo_private_key)"
   ]
  },
  {
   "cell_type": "markdown",
   "metadata": {},
   "source": [
    "Now that we have our public and private key, we can take a message and use the encode function to encrypt it and the decode function to decrypt it with our public and private keys."
   ]
  },
  {
   "cell_type": "code",
   "execution_count": 14,
   "metadata": {},
   "outputs": [
    {
     "name": "stdout",
     "output_type": "stream",
     "text": [
      "\n",
      "Message to Encrypt:\n",
      "\n",
      " \"For things to reveal themselves to us, we need to be ready to abandon our views about them.\" -Thich Nhat Hanh \n",
      "\n"
     ]
    }
   ],
   "source": [
    "# Write a message to encrypt\n",
    "msg = '\"For things to reveal themselves to us, we need to be ready to abandon our views about them.\" -Thich Nhat Hanh'\n",
    "print(\"\\nMessage to Encrypt:\\n\\n\",msg,\"\\n\")"
   ]
  },
  {
   "cell_type": "code",
   "execution_count": 15,
   "metadata": {},
   "outputs": [
    {
     "name": "stdout",
     "output_type": "stream",
     "text": [
      "\n",
      "Encrypted Message:\n",
      "\n",
      " [16518766, 2103119, 12557008, 4389725, 7554864, 19253124, 2047713, 319674, 18213385, 20103683, 10891343, 7554864, 19253124, 12557008, 7554864, 4389725, 19052956, 13484630, 19052956, 4301376, 4393116, 7554864, 19253124, 2047713, 19052956, 19272133, 10891343, 19052956, 4393116, 13484630, 19052956, 10891343, 7554864, 19253124, 12557008, 7554864, 14302492, 10891343, 15894955, 7554864, 24829902, 19052956, 7554864, 18213385, 19052956, 19052956, 23717648, 7554864, 19253124, 12557008, 7554864, 14763958, 19052956, 7554864, 4389725, 19052956, 4301376, 23717648, 10841669, 7554864, 19253124, 12557008, 7554864, 4301376, 14763958, 4301376, 18213385, 23717648, 12557008, 18213385, 7554864, 12557008, 14302492, 4389725, 7554864, 13484630, 319674, 19052956, 24829902, 10891343, 7554864, 4301376, 14763958, 12557008, 14302492, 19253124, 7554864, 19253124, 2047713, 19052956, 19272133, 20185665, 16518766, 7554864, 19449151, 9792489, 2047713, 319674, 14397885, 2047713, 7554864, 12639877, 2047713, 4301376, 19253124, 7554864, 18224477, 4301376, 18213385, 2047713] \n",
      "\n"
     ]
    }
   ],
   "source": [
    "# Encrypt message and save to variable C\n",
    "C = Encode(n,e,msg)\n",
    "print(\"\\nEncrypted Message:\\n\\n\",C,\"\\n\")"
   ]
  },
  {
   "cell_type": "code",
   "execution_count": 16,
   "metadata": {},
   "outputs": [
    {
     "name": "stdout",
     "output_type": "stream",
     "text": [
      "\n",
      "Decrypted Message:\n",
      "\n",
      " \"For things to reveal themselves to us, we need to be ready to abandon our views about them.\" -Thich Nhat Hanh \n",
      "\n"
     ]
    }
   ],
   "source": [
    "# Decrypt message and save to variable M\n",
    "M = Decode(n,d,C)\n",
    "print(\"\\nDecrypted Message:\\n\\n\", M, \"\\n\")"
   ]
  },
  {
   "cell_type": "markdown",
   "metadata": {},
   "source": [
    "### 5. Code Exchange\n",
    "Now that your code is working and you are able read and write message, include 3 complete examples of exhanging code from Piazza here. Put BOTH the code and solutions here. "
   ]
  },
  {
   "cell_type": "markdown",
   "metadata": {},
   "source": [
    "#### Example 1:\n",
    "\n",
    "From Nathan Harris\n",
    "\n",
    "`n,e = 70801, 129 # Public Key`\n",
    "\n",
    "`n,d = 70801, 5969 # Private Key`\n",
    "\n",
    "`Message = [5086, 63228, 10558, 66092, 58823, 8922, 10558, 56322, 58823, 66092, 63228, 17069, 58823, 55551, 7723, 6486, 56322, 66092, 58823, 28423, 29300, 60503, 28423, 17069, 6486, 66092, 58823, 26244, 29300, 26752, 58823, 17069, 46163, 17069, 6486, 58823, 8922, 17069, 60503, 66092, 58823, 66092, 29300, 61599, 58823, 58823, 12258, 6486, 58823, 8922, 63228, 10558, 66092, 58823, 8922, 10558, 56322, 58823, 26244, 29300, 26752, 6486, 58823, 55551, 10558, 46163, 29300, 6486, 7723, 66092, 17069, 58823, 10558, 6486, 66092, 7723, 56322, 66092, 58823, 66092, 29300, 58823, 56322, 17069, 17069, 58823, 7723, 60503, 58823, 28423, 29300, 60503, 28423, 17069, 6486, 66092, 61599]`\n",
    "\n",
    "From Elisabeth Stade\n",
    "\n",
    "`[41707, 63228, 17069, 58823, 12877, 51583, 10558, 56322, 63228, 58823, 10558, 66092, 58823, 4817, 17069, 48479, 58823, 4817, 29300, 28423, 13248, 56322, 39512]`"
   ]
  },
  {
   "cell_type": "code",
   "execution_count": 17,
   "metadata": {},
   "outputs": [
    {
     "name": "stdout",
     "output_type": "stream",
     "text": [
      "70801 129 Public Key\n",
      "70801 5969 Private Key\n"
     ]
    }
   ],
   "source": [
    "p,q = 101,701\n",
    "n = p*q\n",
    "z = (p-1)*(q-1)\n",
    "# Using an optional starting point for e\n",
    "e = Find_Public_Key_e(p,q,e=128)[0]\n",
    "d = Find_Private_Key_d(e,p,q)\n",
    "print(n,e,\"Public Key\")\n",
    "print(n,d, \"Private Key\")"
   ]
  },
  {
   "cell_type": "code",
   "execution_count": 18,
   "metadata": {},
   "outputs": [
    {
     "name": "stdout",
     "output_type": "stream",
     "text": [
      "[5086, 63228, 10558, 66092, 58823, 8922, 10558, 56322, 58823, 66092, 63228, 17069, 58823, 55551, 7723, 6486, 56322, 66092, 58823, 28423, 29300, 60503, 28423, 17069, 6486, 66092, 58823, 26244, 29300, 26752, 58823, 17069, 46163, 17069, 6486, 58823, 8922, 17069, 60503, 66092, 58823, 66092, 29300, 61599, 58823, 58823, 12258, 6486, 58823, 8922, 63228, 10558, 66092, 58823, 8922, 10558, 56322, 58823, 26244, 29300, 26752, 6486, 58823, 55551, 10558, 46163, 29300, 6486, 7723, 66092, 17069, 58823, 10558, 6486, 66092, 7723, 56322, 66092, 58823, 66092, 29300, 58823, 56322, 17069, 17069, 58823, 7723, 60503, 58823, 28423, 29300, 60503, 28423, 17069, 6486, 66092, 61599]\n"
     ]
    }
   ],
   "source": [
    "# From Nathan Harris\n",
    "message = \"What was the first concert you ever went to?  Or what was your favorite artist to see in concert?\"\n",
    "C = Encode(n, e, message)\n",
    "print(C)"
   ]
  },
  {
   "cell_type": "code",
   "execution_count": 19,
   "metadata": {},
   "outputs": [
    {
     "name": "stdout",
     "output_type": "stream",
     "text": [
      "From Nathan Harris:\n",
      " What was the first concert you ever went to?  Or what was your favorite artist to see in concert?\n"
     ]
    }
   ],
   "source": [
    "# From Nathan Harris Decrypted\n",
    "M = Decode(n,d,C)\n",
    "print(\"From Nathan Harris:\\n\",M)"
   ]
  },
  {
   "cell_type": "markdown",
   "metadata": {},
   "source": [
    "From Elisabeth Stade\n",
    "\n",
    "`[41707, 63228, 17069, 58823, 12877, 51583, 10558, 56322, 63228, 58823, 10558, 66092, 58823, 4817, 17069, 48479, 58823, 4817, 29300, 28423, 13248, 56322, 39512]`"
   ]
  },
  {
   "cell_type": "code",
   "execution_count": 20,
   "metadata": {},
   "outputs": [
    {
     "name": "stdout",
     "output_type": "stream",
     "text": [
      "From Elisabeth Stade:\n",
      " The Clash at Red Rocks!\n"
     ]
    }
   ],
   "source": [
    "# From Elisabeth Stade Dcrypted\n",
    "C = [41707, 63228, 17069, 58823, 12877, 51583, 10558, 56322, 63228, 58823, 10558, 66092, 58823, 4817, 17069, 48479, 58823, 4817, 29300, 28423, 13248, 56322, 39512]\n",
    "M = Decode(n,d,C)\n",
    "print(\"From Elisabeth Stade:\\n\",M)"
   ]
  },
  {
   "cell_type": "markdown",
   "metadata": {},
   "source": [
    "From BD Tinsley\n",
    "\n",
    "`[41707, 63228, 17069, 58823, 51583, 10558, 56322, 66092, 58823, 28423, 29300, 60503, 28423, 17069, 6486, 66092, 58823, 49493, 58823, 8922, 17069, 60503, 66092, 58823, 66092, 29300, 58823, 8922, 10558, 56322, 58823, 41707, 63228, 17069, 17069, 58823, 22994, 10558, 28423, 6486, 17069, 48479, 58823, 22994, 29300, 26752, 51583, 56322, 44695, 58823, 9406, 60503, 55551, 29300, 6486, 66092, 26752, 60503, 10558, 66092, 17069, 51583, 26244, 23471, 58823, 58424, 26244, 58823, 60503, 7723, 31268, 63228, 66092, 56322, 58823, 10558, 60503, 48479, 58823, 8922, 17069, 17069, 13248, 17069, 60503, 48479, 56322, 58823, 10558, 6486, 17069, 58823, 58424, 26752, 28423, 63228, 58823, 48276, 26752, 56322, 7723, 17069, 6486, 58823, 60503, 29300, 8922, 58823, 46815, 55111]`"
   ]
  },
  {
   "cell_type": "code",
   "execution_count": 21,
   "metadata": {
    "tags": []
   },
   "outputs": [
    {
     "name": "stdout",
     "output_type": "stream",
     "text": [
      "From BD Tinsley:\n",
      " The last concert I went to was Thee Sacred Souls. Unfortunately, my nights and weekends are much busier now :(\n"
     ]
    }
   ],
   "source": [
    "C = [41707, 63228, 17069, 58823, 51583, 10558, 56322, 66092, 58823, 28423, 29300, 60503, 28423, 17069, 6486, 66092, 58823, 49493, 58823, 8922, 17069, 60503, 66092, 58823, 66092, 29300, 58823, 8922, 10558, 56322, 58823, 41707, 63228, 17069, 17069, 58823, 22994, 10558, 28423, 6486, 17069, 48479, 58823, 22994, 29300, 26752, 51583, 56322, 44695, 58823, 9406, 60503, 55551, 29300, 6486, 66092, 26752, 60503, 10558, 66092, 17069, 51583, 26244, 23471, 58823, 58424, 26244, 58823, 60503, 7723, 31268, 63228, 66092, 56322, 58823, 10558, 60503, 48479, 58823, 8922, 17069, 17069, 13248, 17069, 60503, 48479, 56322, 58823, 10558, 6486, 17069, 58823, 58424, 26752, 28423, 63228, 58823, 48276, 26752, 56322, 7723, 17069, 6486, 58823, 60503, 29300, 8922, 58823, 46815, 55111]\n",
    "print(\"From BD Tinsley:\\n\",Decode(n,d,C))"
   ]
  },
  {
   "cell_type": "markdown",
   "metadata": {},
   "source": [
    "#### Example 2\n",
    "From Claire Lueking\n",
    "\n",
    "`n,e = 2537, 5 #Public Key`\n",
    "\n",
    "`n,d = 2537, 1949 # Private Key`\n",
    "\n",
    "`Message = [1248, 492, 1177, 2033, 70, 761, 2471, 70, 1718, 67, 353, 392, 70, 2214, 1177, 2478, 67, 392, 761, 2033, 2102, 70, 1281, 67, 67, 2025, 198]`\n"
   ]
  },
  {
   "cell_type": "code",
   "execution_count": 22,
   "metadata": {},
   "outputs": [
    {
     "name": "stdout",
     "output_type": "stream",
     "text": [
      "What is your favorite book?\n"
     ]
    }
   ],
   "source": [
    "n,e = 2537, 5\n",
    "n,d = 2537, 1949\n",
    "C = [1248, 492, 1177, 2033, 70, 761, 2471, 70, 1718, 67, 353, 392, 70, 2214, 1177, 2478, 67, 392, 761, 2033, 2102, 70, 1281, 67, 67, 2025, 198]\n",
    "print(Decode(n,d,C))"
   ]
  },
  {
   "cell_type": "markdown",
   "metadata": {},
   "source": [
    "From Nathan Harris\n",
    "\n",
    "`[877, 1716, 67, 67, 969, 70, 506, 2102, 392, 761, 969, 761, 1177, 744, 70, 1281, 1718, 70, 2206, 67, 392, 1780, 1177, 1665, 70, 506, 1665, 2206, 1177, 392, 2033, 492, 1718]`"
   ]
  },
  {
   "cell_type": "code",
   "execution_count": 23,
   "metadata": {},
   "outputs": [
    {
     "name": "stdout",
     "output_type": "stream",
     "text": [
      "[877, 1716, 67, 67, 969, 70, 506, 2102, 392, 761, 969, 761, 1177, 744, 70, 1281, 1718, 70, 2206, 67, 392, 1780, 1177, 1665, 70, 506, 1665, 2206, 1177, 392, 2033, 492, 1718]\n"
     ]
    }
   ],
   "source": [
    "msg = \"Blood Meridian by Cormac McCarthy\"\n",
    "C = Encode(n,e,msg)\n",
    "print(C)"
   ]
  },
  {
   "cell_type": "code",
   "execution_count": 24,
   "metadata": {},
   "outputs": [
    {
     "name": "stdout",
     "output_type": "stream",
     "text": [
      "Blood Meridian by Cormac McCarthy\n"
     ]
    }
   ],
   "source": [
    "print(Decode(n,d,C))"
   ]
  },
  {
   "cell_type": "markdown",
   "metadata": {},
   "source": [
    "#### Example 3\n",
    "From BD Tinsley\n",
    "\n",
    "`n, e = 12709, 3         # Public Key`\n",
    "\n",
    "`n, d = 12709, 8307   # Private Key`\n",
    "\n",
    "`Message = [7747, 9264, 7350, 10398, 6472, 872, 7350, 12462, 7300, 872, 10334, 10398, 7350, 12462, 7300, 872, 872, 9264, 7350, 7300, 7768, 7768, 11420, 7350, 8090, 6472, 872, 7300, 872, 7350, 7571, 10334, 8504, 7350, 10334, 7350, 10398, 872, 1521, 872, 6938, 6472, 7768, 9264, 872, 7350, 7736, 9264, 8698, 7350, 10334, 7350, 7300, 872, 8698, 7350, 726, 10334, 1521, 1521, 7768, 7768, 9264, 7350, 7736, 9264, 8698, 7350, 10334, 7350, 6938, 1106, 4415, 10398, 279, 7300, 872, 7350, 7768, 6361, 2162, 8576]`"
   ]
  },
  {
   "cell_type": "code",
   "execution_count": 25,
   "metadata": {},
   "outputs": [
    {
     "name": "stdout",
     "output_type": "stream",
     "text": [
      "From BD Tinsley:\n",
      " In the great green room There was a telephone And a red balloon And a picture of-?\n"
     ]
    }
   ],
   "source": [
    "n, e = 12709, 3\n",
    "n, d = 12709, 8307\n",
    "C = [7747, 9264, 7350, 10398, 6472, 872, 7350, 12462, 7300, 872, 10334, 10398, 7350, 12462, 7300, 872, 872, 9264, 7350, 7300, 7768, 7768, 11420, 7350, 8090, 6472, 872, 7300, 872, 7350, 7571, 10334, 8504, 7350, 10334, 7350, 10398, 872, 1521, 872, 6938, 6472, 7768, 9264, 872, 7350, 7736, 9264, 8698, 7350, 10334, 7350, 7300, 872, 8698, 7350, 726, 10334, 1521, 1521, 7768, 7768, 9264, 7350, 7736, 9264, 8698, 7350, 10334, 7350, 6938, 1106, 4415, 10398, 279, 7300, 872, 7350, 7768, 6361, 2162, 8576]\n",
    "print(\"From BD Tinsley:\\n\",Decode(n,d,C))"
   ]
  },
  {
   "cell_type": "markdown",
   "metadata": {},
   "source": [
    "From William Booth\n",
    "\n",
    "`[10334, 7350, 4415, 10334, 10398, 7350, 9079, 279, 11420, 6938, 1106, 9264, 12462, 7350, 7768, 3571, 872, 7300, 7350, 10398, 6472, 872, 7350, 11420, 7768, 7768, 9264]`"
   ]
  },
  {
   "cell_type": "code",
   "execution_count": 26,
   "metadata": {},
   "outputs": [
    {
     "name": "stdout",
     "output_type": "stream",
     "text": [
      "From William Booth:\n",
      " a cat jumping over the moon\n"
     ]
    }
   ],
   "source": [
    "C = [10334, 7350, 4415, 10334, 10398, 7350, 9079, 279, 11420, 6938, 1106, 9264, 12462, 7350, 7768, 3571, 872, 7300, 7350, 10398, 6472, 872, 7350, 11420, 7768, 7768, 9264]\n",
    "print(\"From William Booth:\\n\",Decode(n,d,C))"
   ]
  },
  {
   "cell_type": "markdown",
   "metadata": {},
   "source": [
    "From Nathan Harris\n",
    "\n",
    "`[7736, 9264, 8698, 7350, 10398, 6472, 872, 7300, 872, 7350, 7571, 872, 7300, 872, 7350, 7350, 5561, 7350, 1521, 1106, 10398, 10398, 1521, 872, 7350, 726, 872, 10334, 7300, 8504, 7350, 12591, 1106, 10398, 10398, 1106, 9264, 12462, 7350, 7768, 9264, 7350, 4415, 6472, 10334, 1106, 7300, 8504, 7350]`"
   ]
  },
  {
   "cell_type": "code",
   "execution_count": 27,
   "metadata": {},
   "outputs": [
    {
     "name": "stdout",
     "output_type": "stream",
     "text": [
      "[7736, 9264, 8698, 7350, 10398, 6472, 872, 7300, 872, 7350, 7571, 872, 7300, 872, 7350, 7350, 5561, 7350, 1521, 1106, 10398, 10398, 1521, 872, 7350, 726, 872, 10334, 7300, 8504, 7350, 12591, 1106, 10398, 10398, 1106, 9264, 12462, 7350, 7768, 9264, 7350, 4415, 6472, 10334, 1106, 7300, 8504]\n"
     ]
    }
   ],
   "source": [
    "msg = \"And there were  3 little bears Sitting on chairs\"\n",
    "C = Encode(n,e,msg)\n",
    "print(C)"
   ]
  },
  {
   "cell_type": "code",
   "execution_count": 28,
   "metadata": {},
   "outputs": [
    {
     "name": "stdout",
     "output_type": "stream",
     "text": [
      "From Nathan Harris:\n",
      " And there were  3 little bears Sitting on chairs\n"
     ]
    }
   ],
   "source": [
    "print(\"From Nathan Harris:\\n\",Decode(n,d,C))"
   ]
  },
  {
   "cell_type": "code",
   "execution_count": 29,
   "metadata": {},
   "outputs": [
    {
     "name": "stdout",
     "output_type": "stream",
     "text": [
      "355207 711 Public Key\n",
      "355207 268375 Private Key\n"
     ]
    }
   ],
   "source": [
    "p,q = 593,599\n",
    "n = p*q\n",
    "z = (p-1)*(q-1)\n",
    "# Using an optional starting point for e\n",
    "e = Find_Public_Key_e(p,q,e=711)[0]\n",
    "d = Find_Private_Key_d(e,p,q)\n",
    "print(n,e,\"Public Key\")\n",
    "print(n,d, \"Private Key\")"
   ]
  },
  {
   "cell_type": "code",
   "execution_count": 30,
   "metadata": {
    "tags": []
   },
   "outputs": [
    {
     "name": "stdout",
     "output_type": "stream",
     "text": [
      "[65641, 30938, 112152, 332088, 187775, 332088, 36500, 162096, 162096, 293232, 286964, 332088, 234406, 148861, 332088, 286964, 30938, 85165, 215143, 286964, 332088, 304994, 345156, 22848, 30938, 112152, 254307, 9520, 162096, 332088, 9520, 22848, 332088, 286964, 258220, 30938, 36500, 332088, 258220, 345156, 286964, 332088, 201645, 162096, 162096, 85165, 332088, 347023, 85961, 270846, 162096, 148861, 259456, 332088, 332088, 53361, 162096, 215143, 286964, 332088, 112152, 162096, 345156, 287338, 148861, 332088, 9520, 30938, 332088, 234406, 30938, 22848, 162096, 332088, 30938, 85165, 332088, 9520, 30938, 332088, 286964, 30938, 234406, 162096, 9520, 258220, 254307, 85165, 321386, 332088, 162096, 85961, 286964, 162096, 294024, 332088, 133806, 332088, 345156, 234406, 332088, 85165, 30938, 9520, 259456]\n",
      "\n",
      " For 3 weeks my son's favorite tv show has been Bluey.  He's ready to move on to something else, I am not.\n"
     ]
    }
   ],
   "source": [
    "# From Nathan Harris\n",
    "message = \"For 3 weeks my son's favorite tv show has been Bluey.  He's ready to move on to something else, I am not.\"\n",
    "C = Encode(n, e, message)\n",
    "print(C)\n",
    "M = Decode(n,d,C)\n",
    "print(\"\\n\",M)"
   ]
  },
  {
   "cell_type": "markdown",
   "metadata": {},
   "source": [
    "### 6. Write a Narrative (TWO pages of meaningful narrative about your process - not including the examples - about 800 words) here in this block.\n",
    "\n",
    "* Describe your process. Did you plan ahead? Did you wing it? Do you wish you'd planned ahead more?\n",
    "\n",
    "* Describe the results of exchanging keys and codes with classmates. Did it work the first time or did you need to make adjustments.Describe your process. Did you plan ahead? Did you wing it? Do you wish you'd planned ahead more?\n",
    "\n",
    "* What was most challenging? \n",
    "\n",
    "* Who helped you with your project?  Which resources were most helpful?\n",
    "\n",
    "* What was your Best Mistake? (funniest? most frustrating? the one you learned the most from?)\n",
    "\n",
    "\n"
   ]
  },
  {
   "cell_type": "markdown",
   "metadata": {},
   "source": [
    "### My Narrative:"
   ]
  },
  {
   "cell_type": "markdown",
   "metadata": {},
   "source": [
    "This has been a unique project for me.  I have a moderate amount experience writing code but this is the biggest project I have ever completed in a Jupyter notebook with a mixture of code and text blocks for documentation.  I found it to be similar to writing a term paper combined with a coding project.  I found myself scrolling a lot, forgetting the order of inputs for functions or the exact name of a function.  When trying to demonstrate something I found it difficult to keep my code and print statements clean.  I imagine that in this medium, it is one of the best ways to read and understand code and documentation in one.  \n",
    "\n",
    "From the beginning, it didn’t take me long to make progress on the project.  I found the implementation to be rather easy but my biggest challenge was understanding the process well enough to explain RSA.  I had to watch the lecture videos several times for week 2 and copied the proofs as the lecturer wrote them and frequently paused to check my understanding.  I felt that if I had to explain RSA to someone who had no knowledge of it, that that would be 10 times harder than implementing RSA in the Jupyter notebook.  On week 2 of the project I jumped right in.  I was concerned that I might not have enough time that week to work on the project and complete the Mastery Workbook, so I prioritized the project.  I got everything working so that I could post encrypted messages on Piazza but I felt like I had a thin understanding of modular inverses and how the Bezout’s coefficients came in to play.  I ended up having enough time to finish the mastery workbook and it helped tremendously for everything to fall in to place.  Returning to the project, I felt more confident in what I was doing.  I even started browsing resources, poking at Pollard’s Rho and considering what my custom option would be.  I realized that attempting the project before completing the workbook brought me a better understanding of the project.  Knowing what I know now, I would not have done it differently.\n",
    "\n",
    "On week three, every day I said to myself “Today I will finish this project,” but inevitably I had issues to debug, discovering that I misunderstood instructions the first time around.\n",
    "\n",
    "My best mistake was discovered during code breaking.  I realized that my implementation for generating a private key had a possibility for an edge case to lead to creating a negative number for the secret key, d.  I understood that we wanted d to be positive integer but for some reason I forgot this while code breaking and using classmates’ public keys.  Since FME iterates based on the condition where the exponent is above zero, when the exponent was negative it never iterated and the decrypted messages were blank.  I substituted pow for FME in my Decode function and it worked perfectly.  I imagined there must be something wrong with FME.  After reviewing my notes, wracking my brain, I just could not understand a way to implement FME with a negative number in the way that pow was doing it.  I realized that if you have a negative modular inverse, you can just add the number you are using to mod to it get another negative inverse.  You could keep adding until you get a positive number.  I did this, but since it wasn’t the same number from pow, I thought that I did it wrong.  It wasn’t until after office hours that I realized that I was creating just another modular inverse and that even though it wasn’t the same number from pow, both would return the same number if mod m was calculated.  Instead of comparing my FME output to Pow’s output, I should have followed through with the Decode function or checked that the output from Pow and my FME would result in the same number if mod by m.  \n",
    "\n",
    "When problem solving I pride myself on first isolating the problem before working solutions.  This particular mistake and debugging it led me to a few different places where the problem could be.  I was certain that using pow instead of FME meant that there was something wrong with my FME function.  It was only after reviewing my notes and asking questions in Office Hours where I realized that I was on the right track but I had not reached the finish line, my tests came up short and that perhaps my firsthand skill of isolating the problem had been a distraction.  I believe this is a valuable lesson and take away from this project.  While it is valuable technique to isolate a problem before solving it, it’s possible to a isolate wrong area and be led towards a wrong problem.  It’s important to check assumptions, and go slower and more intentional, instead of jumping around and not following through with attempting a solution, another assumption check required, “Is this the right solution to evaluate?”.\n",
    "\n",
    "The best resources for the project were my notes, the textbook, the lecture videos, and the quizzes in the course.  Piazza also helped for me when I got stuck but sometimes when I was stuck I would forget about Piazza or wasn’t sure if I was ready to post my current problem on it.  Like most people, when stuck I would google but oddly enough there is so much information out there that revisiting the resources for our class were just a much better use of my time.  The absolute most helpful resources were videos by Professor Stade and office hours with her.  Often the questions asked by other students would illuminate potential sticking points and I am grateful that they asked them.  \n",
    "\n",
    "It was fun exchanging encrypted messages on Piazza.  At first I did not know what to say or how to respond, but soon I was having fun asking questions and responding to classmate’s posts.  \n",
    "\n",
    "For me, this has been a satisfying, frustrating, and exhausting project.  I am looking forward to encountering RSA in the real world or in other classes and remembering this project when it is mentioned.  \n",
    "\n",
    "\n",
    "*** One resource I found myself using is bigprimes.org for easy look up of large (or small) prime numbers.  "
   ]
  },
  {
   "cell_type": "markdown",
   "metadata": {},
   "source": [
    "### 7. FME Exploration - (CODE INTERVIEW type question)\n",
    "\n",
    "\n",
    "\n",
    "* Explain in detail why RSA needs to use an FME function and cannot just simply use the Python Mod function % .\n",
    "\n",
    "* Provide some specific examples and/or include chart and graphs. \n",
    "\n",
    "* You may use your arguments/work from the Number Theory Mastery Workbook.\n",
    "\n",
    "\n"
   ]
  },
  {
   "cell_type": "code",
   "execution_count": 31,
   "metadata": {},
   "outputs": [],
   "source": [
    "import time\n",
    "\n",
    "# This function returns the difference in time it takes between pow and regular mod operator with the same inputs.\n",
    "\n",
    "def compare_mods(a,n,m):\n",
    "    start = time.time()\n",
    "    fme_result = pow(a,n,m)\n",
    "    end = time.time()\n",
    "    fme_time = end - start\n",
    "    \n",
    "    start = time.time()\n",
    "    not_fme_result = a ** n % m\n",
    "    end = time.time()\n",
    "    not_fme_time = end - start\n",
    "    \n",
    "    difference = not_fme_time - fme_time\n",
    "    \n",
    "    return \"The difference in time between % and pow is \" + str(difference) + \" seconds\"\n",
    "\n",
    "# some big numbers\n",
    "\n",
    "a = 10000000\n",
    "b = 15000000\n",
    "c = 25000000\n",
    "\n",
    "# some smaller numbers\n",
    "\n",
    "x = 57\n",
    "y = 43\n",
    "z = 89"
   ]
  },
  {
   "cell_type": "code",
   "execution_count": 32,
   "metadata": {},
   "outputs": [],
   "source": [
    "#compare_mods(x,y,z) "
   ]
  },
  {
   "cell_type": "markdown",
   "metadata": {},
   "source": [
    "'The difference in time between % and pow is 2.384185791015625e-07 seconds'"
   ]
  },
  {
   "cell_type": "code",
   "execution_count": 33,
   "metadata": {},
   "outputs": [],
   "source": [
    "#compare_mods(a,x,y)"
   ]
  },
  {
   "cell_type": "markdown",
   "metadata": {},
   "source": [
    "'The difference in time between % and pow is 2.86102294921875e-06 seconds'"
   ]
  },
  {
   "cell_type": "code",
   "execution_count": 34,
   "metadata": {},
   "outputs": [],
   "source": [
    "#compare_mods(x,a,y)"
   ]
  },
  {
   "cell_type": "markdown",
   "metadata": {},
   "source": [
    "'The difference in time between % and pow is 19.946433782577515 seconds'"
   ]
  },
  {
   "cell_type": "code",
   "execution_count": 35,
   "metadata": {},
   "outputs": [],
   "source": [
    "#compare_mods(x,y,b)"
   ]
  },
  {
   "cell_type": "markdown",
   "metadata": {},
   "source": [
    "'The difference in time between % and pow is -2.384185791015625e-07 seconds'"
   ]
  },
  {
   "cell_type": "code",
   "execution_count": 36,
   "metadata": {},
   "outputs": [],
   "source": [
    "#compare_mods(a,b,z)"
   ]
  },
  {
   "cell_type": "markdown",
   "metadata": {},
   "source": [
    "'The difference in time between % and pow is 288.4079501628876 seconds'"
   ]
  },
  {
   "cell_type": "code",
   "execution_count": 37,
   "metadata": {},
   "outputs": [],
   "source": [
    "#compare_mods(a,b,c)"
   ]
  },
  {
   "cell_type": "markdown",
   "metadata": {},
   "source": [
    "'The difference in time between % and pow is 288.25347876548767 seconds'"
   ]
  },
  {
   "cell_type": "code",
   "execution_count": 38,
   "metadata": {},
   "outputs": [],
   "source": [
    "#compare_mods(z,c,y)"
   ]
  },
  {
   "cell_type": "markdown",
   "metadata": {},
   "source": [
    "'The difference in time between % and pow is 97.40161442756653 seconds'"
   ]
  },
  {
   "cell_type": "markdown",
   "metadata": {},
   "source": [
    "When implementing RSA we rely on the crucial fact that it is very difficult to factor a prime out of a very large number while it is to incredibly easy to encode with large numbers due to modular arithmetic and specifically Fast Modular Exponentiation.  If RSA did not rely on very large numbers, the regular modulo operator could be sufficient, however when using the modulo operator we are restricted to attempting incredibly difficult computations while Fast Modular Exponentiation leverages the fact that (a mod m) * (b mod m) = ab mod m.  Further, FME uses the binary expansion of a number to break down the exponent so that the values can be squared with each iteration.  (x^2 mod m* x^4 mod m * 2^8 mod m) mod m.  \n",
    "\n",
    "Through inductive research with the above examples we can see the time difference between traditional modulo and the pow method (FME).  The main difference is when the exponent is a large number. In other situations it may have taken a long time but it always took a long time when the exponent was a large number. When the base and exponent were large it always took an even longer time. It did not take a long time when the divisor was large. I assume this has to do with the number of operations, and if it's a large divisor then there are fewer operations.\n",
    "\n",
    "We can compare complexity with the two methods as well.  FME has a time complexity of O((log m)^2 log n) operations for b^n mod m.  n is split up across a binary expansion, therefore there are log n number of operations, and for each of those mod m is applied.  It is squared because mod m is applied twice per iteration when the current position binary value is 1.  \n",
    "\n",
    "The best algorithms for computing modulo remainder are loga * logd  where a is an integer and d is a divisor.  It can be simplified to O(n^2) where n is the overall input.  \n",
    "\n",
    "(Time Complexitry referenced in Rosen page 253-254 and my Mastery workbook was referenced for examples). "
   ]
  },
  {
   "cell_type": "markdown",
   "metadata": {},
   "source": [
    "## CODE BREAKING ##\n",
    "\n",
    "This section of the project is only available to students exchanging codes by the Friday (midnight) before the project is due.\n",
    "\n",
    "After you have tested your RSA package yourself, and tested it with classmates by publishing both the private and public keys on Piazza, post 2 messages with just the public keys for people to break on the \"Just Public Keys\" thread - use both very small n ‘s (under 1000) for practice, and some with a challenge.\n",
    "\n",
    "\n",
    "**Implementing a factoring algorithm:**\n",
    "\n",
    "Begin by coding the basic brute force factorization algorithm given in pseudocode below.\n",
    "\n",
    "Brute Force Factoring\n",
    "<pre><code>def factorize(n):\n",
    "    # n is a number, return the smallest factor of n\n",
    "    for i from 2 to n-1:\n",
    "        if i divides n:\n",
    "            return i\n",
    "        return FALSE\n",
    "        </code></pre>\n"
   ]
  },
  {
   "cell_type": "markdown",
   "metadata": {},
   "source": [
    "### Code Breaking Functions"
   ]
  },
  {
   "cell_type": "code",
   "execution_count": 39,
   "metadata": {},
   "outputs": [],
   "source": [
    "# These four functions build on each other and can be used separately or together. \n",
    "\n",
    "# Find a divisor for n\n",
    "def factorize(n):\n",
    "    for num in range(2,n-1):\n",
    "        if n % num == 0:\n",
    "            return num\n",
    "    return None\n",
    "\n",
    "# with the divisor, p we can generate (p,q)\n",
    "def get_p_q(n):\n",
    "    p = factorize(n)\n",
    "    if p == None:\n",
    "        return None\n",
    "    q = int(n / p)\n",
    "    return (p,q)\n",
    "\n",
    "# with e,p, and q, we can create a private key to decrypt messages\n",
    "def get_private_key(e,n):\n",
    "    p,q = get_p_q(n)\n",
    "    if p == None:\n",
    "        return None\n",
    "    return (n,Find_Private_Key_d(e, p, q))\n",
    "\n",
    "# This function streamlines all of the above functions in to one\n",
    "def decrypt_msg_with_public_key(e,n,C):\n",
    "    n,d = get_private_key(e,n)\n",
    "    return Decode(n,d,C)"
   ]
  },
  {
   "cell_type": "markdown",
   "metadata": {
    "tags": []
   },
   "source": [
    "### 8. How to Break Code. \n",
    "* Explain in detail how breaking works in this text block. \n",
    "* What are the complete steps? What tools do you need?\n",
    "* How secure is RSA? Why is it difficult to break codes in RSA? \n",
    "* Is our implementation of RSA secure? What are it's flaws?\n"
   ]
  },
  {
   "cell_type": "markdown",
   "metadata": {},
   "source": [
    "**How to Break Code**\n",
    "\n",
    "In order to break code we need to figure out the Secret Key.  We already know n, from the public key, but we need to know the number d for the private key.  Since d is the modular inverse of e mod (p-1) * (q-1), then we need to know what p and q are.  \n",
    "\n",
    "n is the product of p and q.  If we can factor n such that we find a divisor for n, we can divide n by that divisor and the two numbers would be p and q.  \n",
    "\n",
    "With the brute force factorialize function we can extract a p from a relatively small n.\n",
    "\n",
    "Once we have p and q, it's just like generating our own private key.  \n",
    "\n",
    "The main reason that it is difficult to break codes in RSA is that it is extremely difficult (and time consuming) to factor a prime out of an extremely large number.  In our case we are using relatively small numbers but to crack a secret key in the real world would take longer than my lifetime.  \n",
    "\n",
    "Our version of RSA is susceptable to cracking by frequency measurement.  Since each letter is converted in to a number, one could start to figure out common letters and start making a guess and check system and could start getting the rough idea of a table of known character keys and start understanding our messages.  The English language is such that you can start to understand a sentence even with a good number of the characters hidden.  For Example: The TV Show Wheel of Fortune.  \n"
   ]
  },
  {
   "cell_type": "markdown",
   "metadata": {},
   "source": [
    "### 9. Decode!  Use a mix of text and code blocks\n",
    "\n",
    "* Decode one example from Piazza in detial showing all the steps.\n",
    "* Decode and Respond to 3 \"just codes with public keys\" in Piazza with different sizes of n. Include complete results here.\n",
    "* What did you notice about larger n s?\n"
   ]
  },
  {
   "cell_type": "markdown",
   "metadata": {},
   "source": [
    "### In Detail Example of Code Cracking:"
   ]
  },
  {
   "cell_type": "code",
   "execution_count": 40,
   "metadata": {},
   "outputs": [
    {
     "name": "stdout",
     "output_type": "stream",
     "text": [
      "Private Key:\n",
      " 703 281\n"
     ]
    }
   ],
   "source": [
    "n, e = 703, 113                 #Public Key\n",
    "# We find a factor of n and assign it to p\n",
    "p = factorize(n)\n",
    "# Once we have p we can find q\n",
    "q = n // p\n",
    "#Now that we have p and q, we can make a d\n",
    "d = Find_Private_Key_d(e,p,q)\n",
    "\n",
    "print(\"Private Key:\\n\",n,d)     #Private Key"
   ]
  },
  {
   "cell_type": "code",
   "execution_count": 41,
   "metadata": {
    "tags": []
   },
   "outputs": [
    {
     "name": "stdout",
     "output_type": "stream",
     "text": [
      "\n",
      "From Elisabeth Stade:\n",
      " The Conquistador's treasure is buried south of Creed.\n",
      "\n",
      "From Claire Lueking:\n",
      " Cool, is there gold?\n",
      "\n",
      "From Derek Larson:\n",
      " Now if only we had his private key...\n",
      "\n",
      "From James Keller :\n",
      " Argh! Geography! My only weakness.\n",
      "[643, 526, 47, 242, 47, 526, 581, 242, 165, 555, 242, 523, 364, 210, 519, 90, 526, 511, 233, 242, 523, 581, 242, 210, 472, 555, 416, 233, 90, 86]\n",
      "\n",
      "From Nathan Harris:\n",
      " Bad day to misplace my shovel!\n"
     ]
    }
   ],
   "source": [
    "# Decrypt Conversation\n",
    "C = [544, 472, 233, 242, 250, 555, 591, 550, 376, 364, 210, 165, 526, 47, 555, 95, 476, 210, 242, 165, 95, 233, 526, 210, 376, 95, 233, 242, 364, 210, 242, 224, 376, 95, 364, 233, 47, 242, 210, 555, 376, 165, 472, 242, 555, 410, 242, 250, 95, 233, 233, 47, 145]\n",
    "M = Decode(n,d,C)\n",
    "print(\"\\nFrom Elisabeth Stade:\\n\",M)\n",
    "C = [250, 555, 555, 90, 157, 242, 364, 210, 242, 165, 472, 233, 95, 233, 242, 88, 555, 90, 47, 195]\n",
    "M = Decode(n,d,C)\n",
    "print(\"\\nFrom Claire Lueking:\\n\",M)\n",
    "C = [469, 555, 541, 242, 364, 410, 242, 555, 591, 90, 581, 242, 541, 233, 242, 472, 526, 47, 242, 472, 364, 210, 242, 519, 95, 364, 416, 526, 165, 233, 242, 160, 233, 581, 145, 145, 145]\n",
    "M = Decode(n,d,C)\n",
    "print(\"\\nFrom Derek Larson:\\n\",M)\n",
    "C = [373, 95, 88, 472, 86, 242, 238, 233, 555, 88, 95, 526, 519, 472, 581, 86, 242, 58, 581, 242, 555, 591, 90, 581, 242, 541, 233, 526, 160, 591, 233, 210, 210, 145]\n",
    "M = Decode(n,d,C)\n",
    "print(\"\\nFrom James Keller :\\n\",M)\n",
    "C = Encode(n,e,\"Bad day to misplace my shovel!\")\n",
    "print(C)\n",
    "print(\"\\nFrom Nathan Harris:\\n\",Decode(n,d,C))"
   ]
  },
  {
   "cell_type": "markdown",
   "metadata": {},
   "source": [
    "### More Examples of Code Breaking:\n",
    "I abstracted some of the steps with the function decrypt_msg_with_public_key() which uses factorize,get p and q, as well as Find_Private_Key_d "
   ]
  },
  {
   "cell_type": "code",
   "execution_count": 42,
   "metadata": {},
   "outputs": [
    {
     "name": "stdout",
     "output_type": "stream",
     "text": [
      "I'm addicted to blue cheese :)\n",
      "I LOVE CHEESE!\n"
     ]
    }
   ],
   "source": [
    "n, e = 47783,  11  #Public Key\n",
    "C = [32081, 47096, 43316, 4166, 7577, 33839, 33839, 11883, 20436, 15143, 11747, 33839, 4166, 15143, 26715, 4166, 5830, 5228, 3312, 11747, 4166, 20436, 33080, 11747, 11747, 23351, 11747, 4166, 26862, 26167]\n",
    "M = decrypt_msg_with_public_key(e,n,C)\n",
    "print(M)\n",
    "C = [32081, 4166, 36357, 39139, 38563, 5336, 4166, 17842, 26271, 5336, 5336, 40570, 5336, 6668]\n",
    "M = decrypt_msg_with_public_key(e,n,C)\n",
    "print(M)"
   ]
  },
  {
   "cell_type": "code",
   "execution_count": 43,
   "metadata": {},
   "outputs": [
    {
     "name": "stdout",
     "output_type": "stream",
     "text": [
      "The best thing about a Boolean is even if you are wrong, you are only off by a bit.\n",
      "Very funny. I laughed so hard!\n",
      "So since the answer is only off by a bit, can we get partial credit on True/False questions?\n"
     ]
    }
   ],
   "source": [
    "n, e = 130177, 13      #Public Key\n",
    "C = [85308, 48594, 15927, 71285, 61037, 15927, 767, 23406, 71285, 23406, 48594, 12676, 37298, 100459, 71285, 90170, 61037, 38946, 38783, 23406, 71285, 90170, 71285, 113492, 38946, 38946, 86792, 15927, 90170, 37298, 71285, 12676, 767, 71285, 15927, 121493, 15927, 37298, 71285, 12676, 84628, 71285, 29228, 38946, 38783, 71285, 90170, 110238, 15927, 71285, 81798, 110238, 38946, 37298, 100459, 126494, 71285, 29228, 38946, 38783, 71285, 90170, 110238, 15927, 71285, 38946, 37298, 86792, 29228, 71285, 38946, 84628, 84628, 71285, 61037, 29228, 71285, 90170, 71285, 61037, 12676, 23406, 10510]\n",
    "M = decrypt_msg_with_public_key(e,n,C)\n",
    "print(M)\n",
    "C = [93219, 15927, 110238, 29228, 71285, 84628, 38783, 37298, 37298, 29228, 10510, 71285, 90769, 71285, 86792, 90170, 38783, 100459, 48594, 15927, 38831, 71285, 767, 38946, 71285, 48594, 90170, 110238, 38831, 124788]\n",
    "M = decrypt_msg_with_public_key(e,n,C)\n",
    "print(M)\n",
    "C = [61795, 38946, 71285, 767, 12676, 37298, 5530, 15927, 71285, 23406, 48594, 15927, 71285, 90170, 37298, 767, 81798, 15927, 110238, 71285, 12676, 767, 71285, 38946, 37298, 86792, 29228, 71285, 38946, 84628, 84628, 71285, 61037, 29228, 71285, 90170, 71285, 61037, 12676, 23406, 126494, 71285, 5530, 90170, 37298, 71285, 81798, 15927, 71285, 100459, 15927, 23406, 71285, 114803, 90170, 110238, 23406, 12676, 90170, 86792, 71285, 5530, 110238, 15927, 38831, 12676, 23406, 71285, 38946, 37298, 71285, 85308, 110238, 38783, 15927, 112216, 53090, 90170, 86792, 767, 15927, 71285, 36860, 38783, 15927, 767, 23406, 12676, 38946, 37298, 767, 74527]\n",
    "M = decrypt_msg_with_public_key(e,n,C)\n",
    "print(M)\n"
   ]
  },
  {
   "cell_type": "code",
   "execution_count": 44,
   "metadata": {},
   "outputs": [
    {
     "name": "stdout",
     "output_type": "stream",
     "text": [
      "Jenny's prime is probably my favorite.  8675309.  Thanks Tommy Tutone!\n"
     ]
    }
   ],
   "source": [
    "n, e = 29917061, 8684999 #Public Key\n",
    "C = [22287915, 9078012, 17453490, 17453490, 14264532, 24523837, 985919, 6341542, 17441500, 5831276, 9066565, 12008286, 9078012, 6341542, 9066565, 985919, 6341542, 17441500, 5831276, 29026233, 29334782, 28836202, 29334782, 25597531, 14264532, 6341542, 12008286, 14264532, 6341542, 11639104, 28836202, 7800891, 29026233, 5831276, 9066565, 20457492, 9078012, 15992531, 6341542, 6341542, 24846263, 12106619, 29650399, 23100921, 13584848, 9668251, 18965502, 15992531, 6341542, 6341542, 15697184, 3102918, 28836202, 17453490, 28615097, 985919, 6341542, 15697184, 29026233, 12008286, 12008286, 14264532, 6341542, 15697184, 15040546, 20457492, 29026233, 17453490, 9078012, 22072925]\n",
    "\n",
    "print(decrypt_msg_with_public_key(e,n,C))"
   ]
  },
  {
   "cell_type": "code",
   "execution_count": 45,
   "metadata": {},
   "outputs": [
    {
     "name": "stdout",
     "output_type": "stream",
     "text": [
      "The answer to life, the universe, and everything is: 42.\n"
     ]
    }
   ],
   "source": [
    "n, e = 44243, 7\n",
    "C = [2694, 14335, 23616, 5166, 10909, 11297, 10095, 16427, 23616, 13887, 5166, 37331, 3687, 5166, 29541, 22886, 30381, 23616, 14127, 5166, 37331, 14335, 23616, 5166, 20850, 11297, 22886, 38925, 23616, 13887, 10095, 23616, 14127, 5166, 10909, 11297, 20406, 5166, 23616, 38925, 23616, 13887, 14634, 37331, 14335, 22886, 11297, 40714, 5166, 22886, 10095, 44189, 5166, 31566, 27120, 39024]\n",
    "print(decrypt_msg_with_public_key(e,n,C))\n"
   ]
  },
  {
   "cell_type": "code",
   "execution_count": 46,
   "metadata": {},
   "outputs": [
    {
     "name": "stdout",
     "output_type": "stream",
     "text": [
      "What is the best hike near Denver?\n"
     ]
    }
   ],
   "source": [
    "n, e = 321173 , 164137\n",
    "\n",
    "C = [141013, 291818, 37053, 320527, 291150, 247024, 192346, 291150, 320527, 291818, 52, 291150, 123011, 52, 192346, 320527, 291150, 291818, 247024, 270878, 52, 291150, 207737, 52, 37053, 229153, 291150, 190683, 52, 207737, 162009, 52, 229153, 319648]\n",
    "print(decrypt_msg_with_public_key(e,n,C))"
   ]
  },
  {
   "cell_type": "markdown",
   "metadata": {},
   "source": [
    "\n",
    "\n",
    "\n"
   ]
  },
  {
   "cell_type": "markdown",
   "metadata": {},
   "source": [
    "\n",
    "### 10. Custom CODE Feature ##\n",
    "The custom feature should be a \"Stand Alone\" feature at the end of the notebook. If you want to use code from above, please copy the functions again as part of your feature so it can be tested independently. Be sure to provide a demonstration showing that it works. See RSA Guide for more information and suggestions. \n",
    "\n",
    "**Do not forget the self-grading element.**\n"
   ]
  },
  {
   "cell_type": "markdown",
   "metadata": {},
   "source": [
    "### Introduction for Custom Code Feature\n",
    "\n",
    "For my custom code feature I intended on taking the pseudocode for Pollard's Rho, convert it to python code and get it working and then explore examples of code breaking with it.  \n",
    "\n",
    "Since we are also offered to \"redo the project your way\" a second time around.  I could not help but notice the pain points of keeping track of variables and functions and I kept thinking it would be just better if the RSA functions and variables were part of a class as methods and properties, and with each new encryption, it would be a new instance of the RSA class.  I got a little carried away trying to get this working the way that I would want it to work, as if it was a module that you would import.  My goal would be to abstract away some of the values and just have a python user focus on messages, ciphers and code breaking.  I imagine it being used as part of an API.\n",
    "\n",
    "In furthering the abstraction and (inspired from a Piazza post on where are you getting your primes?), I also created a custom feature to generate random primes with an optional given number of digits I called a limit.\n",
    "\n",
    "So as I wrap up my custom code feature, it could be seen that I may have implemented 3 different custom code features.  This was not my original intent as I wanted to just create a better version of RSA for my own imagined user and myself.\n",
    "\n",
    "First I have implemented Pollard's Rho and explored comparisons to it and the factorize function from the code breaking section.  I found the algorithm to be fascinating as well as reading the Cormen, Leiserson, Rivest, Stein book.  (I am keeping that one handy for the Algorithms course next semester).  \n",
    "\n",
    "My full featured implementation with custom code feature follows the exploration of Pollard's Rho.  Enjoy!\n",
    "\n",
    "*** For resources regarding python classes, I referenced projects I have done in the past building web applications with Django, Flask, and learning Object Oriented Programming with Python as part of a coding bootcamp I took 3 years ago."
   ]
  },
  {
   "cell_type": "code",
   "execution_count": 47,
   "metadata": {},
   "outputs": [],
   "source": [
    "# Pollard's Rho\n",
    "# Resource: Introduction to Algorithms Third Edition\n",
    "# by Cormen, Leiserson, Rivest, and Stein\n",
    "\n",
    "# The comments with numbers through out are from the pseudocode on page 976\n",
    "def pollard_rho(n):\n",
    "    # 1 i=1\n",
    "    # initialize i\n",
    "    i = 0\n",
    "    x = []\n",
    "    \n",
    "    # 2 x1 = RANDOM(0,n-1)\n",
    "    x.append(random.randint(0,n-1))\n",
    "    \n",
    "    # 3 y=x_1\n",
    "    y = x[0]\n",
    "    \n",
    "    # 4 k=2\n",
    "    k = 2\n",
    "    \n",
    "    # 5 while TRUE\n",
    "    while(True):\n",
    "        \n",
    "        # 6 i=i+1\n",
    "        i = i+1\n",
    "        \n",
    "        # 7 x_i =(x^2_i-1)mod n\n",
    "        x.insert(i,(x[i-1]**2-1) % n)\n",
    "        \n",
    "        # 8 d = gcd(y - x_i, n)\n",
    "        d = Euclidean_Alg(y-x[i],n)\n",
    "        \n",
    "        # 9 if d != 1 and d != n\n",
    "        if d != 1 and d != n:\n",
    "            # 10 print d \n",
    "            return d\n",
    "\n",
    "        # 11 if i == k \n",
    "        if i == k:\n",
    "            \n",
    "            # 12 y = x_i\n",
    "            y = x[i]\n",
    "            \n",
    "            # 13 k = 2k\n",
    "            k = 2*k"
   ]
  },
  {
   "cell_type": "code",
   "execution_count": 48,
   "metadata": {},
   "outputs": [],
   "source": [
    "# Two 8 digit primes\n",
    "p,q = 63469513, 57309451\n",
    "n = p*q"
   ]
  },
  {
   "cell_type": "code",
   "execution_count": 49,
   "metadata": {},
   "outputs": [
    {
     "name": "stdout",
     "output_type": "stream",
     "text": [
      "57309451\n"
     ]
    }
   ],
   "source": [
    "# This takes about 4 seconds\n",
    "print(factorize(n))"
   ]
  },
  {
   "cell_type": "code",
   "execution_count": 50,
   "metadata": {},
   "outputs": [
    {
     "name": "stdout",
     "output_type": "stream",
     "text": [
      "57309451\n"
     ]
    }
   ],
   "source": [
    "# This is practically immediate\n",
    "print(pollard_rho(n))"
   ]
  },
  {
   "cell_type": "code",
   "execution_count": 51,
   "metadata": {},
   "outputs": [],
   "source": [
    "# Two 9 digit primes\n",
    "p,q = 799711421, 533911883\n",
    "n = p*q"
   ]
  },
  {
   "cell_type": "code",
   "execution_count": 52,
   "metadata": {},
   "outputs": [],
   "source": [
    "# This takes about 40 seconds\n",
    "#print(factorize(n))\n",
    "\n",
    "# anything more than two 9 digit primes starts getting longer than 10min"
   ]
  },
  {
   "cell_type": "code",
   "execution_count": 53,
   "metadata": {},
   "outputs": [
    {
     "name": "stdout",
     "output_type": "stream",
     "text": [
      "533911883\n"
     ]
    }
   ],
   "source": [
    "# This is practically immediate\n",
    "print(pollard_rho(n))"
   ]
  },
  {
   "cell_type": "code",
   "execution_count": 54,
   "metadata": {},
   "outputs": [],
   "source": [
    "# Two 10 digit primes\n",
    "p,q = 6645926681, 8247202409\n",
    "n = p*q"
   ]
  },
  {
   "cell_type": "code",
   "execution_count": 55,
   "metadata": {},
   "outputs": [
    {
     "data": {
      "text/plain": [
       "6645926681"
      ]
     },
     "execution_count": 55,
     "metadata": {},
     "output_type": "execute_result"
    }
   ],
   "source": [
    "# pretty much immediate\n",
    "pollard_rho(n)"
   ]
  },
  {
   "cell_type": "code",
   "execution_count": 56,
   "metadata": {},
   "outputs": [],
   "source": [
    "# 15 digit primes, about 17 seconds!\n",
    "p,q = 746055976793081,900396410718611\n",
    "#print(pollard_rho(p*q))"
   ]
  },
  {
   "cell_type": "markdown",
   "metadata": {},
   "source": [
    "### Custom Implementation"
   ]
  },
  {
   "cell_type": "markdown",
   "metadata": {},
   "source": [
    "Here I start by creating a class for all of our RSA variables and methods to be contained within.  Instead of making one very long class, I have broken it up everytime I add a new addition by overwriting it with itself plus the new addition.  I have also ommitted some of the comments from the implementation in the main project to keep the code shorter."
   ]
  },
  {
   "cell_type": "markdown",
   "metadata": {},
   "source": [
    "Since this is standalone, I include import random at the top.  (I had this working in a separate file before copying it over).  We will call the class myRSA and create static methods for the utility functions and class methods for the instances of the RSA encryption environment.  "
   ]
  },
  {
   "cell_type": "code",
   "execution_count": 57,
   "metadata": {},
   "outputs": [],
   "source": [
    "import random\n",
    "\n",
    "class myRSA:\n",
    "#---------------------------------------------------- UTILITIES\n",
    "    def string_to_int_list(_str):\n",
    "        # convert string of letters to list of integers\n",
    "        integer_list = []\n",
    "        for char in _str:\n",
    "            integer_list.append(ord(char))\n",
    "        return integer_list\n",
    "    \n",
    "    def int_list_to_string(_list):\n",
    "        # convert list of integers to a string of letters\n",
    "        _string = ''\n",
    "        for i in _list:\n",
    "            _string += chr(i)\n",
    "        return _string"
   ]
  },
  {
   "cell_type": "code",
   "execution_count": 58,
   "metadata": {},
   "outputs": [
    {
     "name": "stdout",
     "output_type": "stream",
     "text": [
      "[104, 101, 108, 108, 111]\n"
     ]
    }
   ],
   "source": [
    "print(myRSA.string_to_int_list(\"hello\"))"
   ]
  },
  {
   "cell_type": "code",
   "execution_count": 59,
   "metadata": {},
   "outputs": [
    {
     "name": "stdout",
     "output_type": "stream",
     "text": [
      "hello\n"
     ]
    }
   ],
   "source": [
    "print(myRSA.int_list_to_string([104, 101, 108, 108, 111]))"
   ]
  },
  {
   "cell_type": "markdown",
   "metadata": {},
   "source": [
    "Here are the intermediate methods renamed with acronymns:"
   ]
  },
  {
   "cell_type": "code",
   "execution_count": 60,
   "metadata": {},
   "outputs": [],
   "source": [
    "class myRSA:\n",
    "#---------------------------------------------------- UTILITIES\n",
    "    string_to_int_list = myRSA.string_to_int_list\n",
    "    int_list_to_string = myRSA.int_list_to_string\n",
    "    \n",
    "    def FME(b, e, m):\n",
    "        result, square = 1, b\n",
    "        while(e > 0):\n",
    "            if e % 2 == 1:\n",
    "                result = (result * square) % m\n",
    "            square = (square**2) % m\n",
    "            e = e // 2\n",
    "        return result"
   ]
  },
  {
   "cell_type": "code",
   "execution_count": 61,
   "metadata": {},
   "outputs": [
    {
     "name": "stdout",
     "output_type": "stream",
     "text": [
      "True\n"
     ]
    }
   ],
   "source": [
    "print(pow(1661,555,17)==myRSA.FME(1661,555,17))"
   ]
  },
  {
   "cell_type": "code",
   "execution_count": 62,
   "metadata": {},
   "outputs": [],
   "source": [
    "class myRSA:\n",
    "#---------------------------------------------------- UTILITIES\n",
    "    string_to_int_list = myRSA.string_to_int_list\n",
    "    int_list_to_string = myRSA.int_list_to_string\n",
    "    FME = myRSA.FME\n",
    "    \n",
    "    def GCD(x,y):\n",
    "        while y != 0:\n",
    "            r = x % y\n",
    "            x = y\n",
    "            y = r\n",
    "        return x"
   ]
  },
  {
   "cell_type": "code",
   "execution_count": 63,
   "metadata": {},
   "outputs": [
    {
     "name": "stdout",
     "output_type": "stream",
     "text": [
      "actual output:  2 expected output: 2\n"
     ]
    }
   ],
   "source": [
    "print(\"actual output: \", myRSA.GCD(662, 414),\"expected output: 2\")"
   ]
  },
  {
   "cell_type": "code",
   "execution_count": 64,
   "metadata": {},
   "outputs": [],
   "source": [
    "class myRSA:\n",
    "#---------------------------------------------------- UTILITIES\n",
    "    string_to_int_list = myRSA.string_to_int_list\n",
    "    int_list_to_string = myRSA.int_list_to_string\n",
    "    FME = myRSA.FME\n",
    "    GCD = myRSA.GCD\n",
    "    \n",
    "    def EEA(m,n):\n",
    "        s_1, s_2 = 1,0\n",
    "        t_1, t_2 = 0,1\n",
    "\n",
    "        while n > 0:\n",
    "            k = m % n\n",
    "            q = m // n\n",
    "            m = n\n",
    "            n = k\n",
    "            s_1_hat, t_1_hat = s_2,t_2\n",
    "            s_2_hat, t_2_hat = s_1 - q*s_2, t_1 - q*t_2\n",
    "            s_1,t_1 = s_1_hat, t_1_hat\n",
    "            s_2, t_2 = s_2_hat, t_2_hat    \n",
    "        return m, s_1, t_1"
   ]
  },
  {
   "cell_type": "code",
   "execution_count": 65,
   "metadata": {},
   "outputs": [
    {
     "data": {
      "text/plain": [
       "(18, 4, -5)"
      ]
     },
     "execution_count": 65,
     "metadata": {},
     "output_type": "execute_result"
    }
   ],
   "source": [
    "myRSA.EEA(252,198) # 18 = 4(252) + -5(198)"
   ]
  },
  {
   "cell_type": "markdown",
   "metadata": {},
   "source": [
    "Here I added to helper functions to make prime numbers and to check that a number is prime.  I use these when generating keys without giving values for p and q."
   ]
  },
  {
   "cell_type": "code",
   "execution_count": 66,
   "metadata": {},
   "outputs": [],
   "source": [
    "class myRSA:\n",
    "#---------------------------------------------------- UTILITIES\n",
    "    string_to_int_list = myRSA.string_to_int_list\n",
    "    int_list_to_string = myRSA.int_list_to_string\n",
    "    FME = myRSA.FME\n",
    "    GCD = myRSA.GCD\n",
    "    EEA = myRSA.EEA\n",
    "    \n",
    "    \n",
    "    def is_prime(num):\n",
    "        if num == 1 or num == 0:\n",
    "            return None\n",
    "        if num == 2:\n",
    "            return True\n",
    "        for i in range(2,num-1):\n",
    "            if num % i == 0:\n",
    "                return False\n",
    "        return True"
   ]
  },
  {
   "cell_type": "code",
   "execution_count": 67,
   "metadata": {},
   "outputs": [
    {
     "name": "stdout",
     "output_type": "stream",
     "text": [
      "False True False True\n"
     ]
    }
   ],
   "source": [
    "print(myRSA.is_prime(8),myRSA.is_prime(3),myRSA.is_prime(999),myRSA.is_prime(101))"
   ]
  },
  {
   "cell_type": "code",
   "execution_count": 68,
   "metadata": {},
   "outputs": [],
   "source": [
    "class myRSA:\n",
    "#---------------------------------------------------- UTILITIES\n",
    "    string_to_int_list = myRSA.string_to_int_list\n",
    "    int_list_to_string = myRSA.int_list_to_string\n",
    "    FME = myRSA.FME\n",
    "    GCD = myRSA.GCD\n",
    "    EEA = myRSA.EEA\n",
    "    is_prime = myRSA.is_prime\n",
    "    \n",
    "    def make_prime(limit):\n",
    "        p = random.randint(limit // 10,limit)\n",
    "        while(myRSA.is_prime(p)==False):\n",
    "            p += 1\n",
    "        return p\n",
    "    "
   ]
  },
  {
   "cell_type": "code",
   "execution_count": 69,
   "metadata": {},
   "outputs": [
    {
     "name": "stdout",
     "output_type": "stream",
     "text": [
      "5639\n"
     ]
    }
   ],
   "source": [
    "print(myRSA.make_prime(10000))"
   ]
  },
  {
   "cell_type": "markdown",
   "metadata": {},
   "source": [
    "Finally, we create our public and private keys when we instantiate the RSA encryption environment so it is in the class' constructor method.  This takes optional arguments for p,q,e, and limit (for generating random prime numbers)."
   ]
  },
  {
   "cell_type": "code",
   "execution_count": 70,
   "metadata": {},
   "outputs": [],
   "source": [
    "class myRSA:\n",
    "    \n",
    "#---------------------------------------------------- CONSTRUCTOR\n",
    "\n",
    "    def __init__(self,p=None,q=None,e=None,limit=None):\n",
    "        \n",
    "#       --- Generate Variables ---   \n",
    "        if limit == None:\n",
    "            limit = 1000\n",
    "        if p == None:\n",
    "            p = myRSA.make_prime(limit)\n",
    "        if q == None:\n",
    "            q = myRSA.make_prime(limit)\n",
    "   \n",
    "        n = p*q\n",
    "        z = (p-1)*(q-1)\n",
    "        \n",
    "#       --- Public Key find e ---\n",
    "        if e == None:\n",
    "            e = random.randint(3,z)\n",
    "            \n",
    "        # iterate from e to find a number that is rel prime to z\n",
    "        bool = True\n",
    "        while(bool):\n",
    "            if myRSA.GCD(e, z) == 1 and e!= p and e != q:\n",
    "                bool = False\n",
    "            else:\n",
    "                e += 1\n",
    "#       --- Private Key find d ---\n",
    "        g,s,t = myRSA.EEA(e,z)\n",
    "        if (e*s) % z == 1:\n",
    "            # Correct if negative\n",
    "            if s < 0:\n",
    "                while s < 0:\n",
    "                    s += z\n",
    "            d = s\n",
    "        # Same as s, in case s is not the mod inv and t is\n",
    "        elif (e*t) % z == 1:\n",
    "            if t < 0:\n",
    "                while t < 0:\n",
    "                    t += z\n",
    "            d = t\n",
    "\n",
    "#       --- Assign Variables to instance --- \n",
    "        self.p = p\n",
    "        self.q = q\n",
    "        self.n = n\n",
    "        self.e = e\n",
    "        self.d = d\n",
    "        self.public_key = (e,n)\n",
    "        self.private_key = (d,n)\n",
    "        \n",
    "        print(\"RSA keys complete\")\n",
    "        return None\n",
    "    \n",
    "#---------------------------------------------------- UTILITIES\n",
    "    string_to_int_list = myRSA.string_to_int_list\n",
    "    int_list_to_string = myRSA.int_list_to_string\n",
    "    FME = myRSA.FME\n",
    "    GCD = myRSA.GCD\n",
    "    EEA = myRSA.EEA\n",
    "    is_prime = myRSA.is_prime\n",
    "    make_prime = myRSA.make_prime\n",
    "    \n"
   ]
  },
  {
   "cell_type": "markdown",
   "metadata": {},
   "source": [
    "Let's make our first RSA keys with classes and inheritence!  First is my favorite way to create new keys, no arguments required and it just works (with random primes, p,q and an e)."
   ]
  },
  {
   "cell_type": "code",
   "execution_count": 71,
   "metadata": {},
   "outputs": [
    {
     "name": "stdout",
     "output_type": "stream",
     "text": [
      "RSA keys complete\n"
     ]
    }
   ],
   "source": [
    "demo1 = myRSA()"
   ]
  },
  {
   "cell_type": "code",
   "execution_count": 72,
   "metadata": {},
   "outputs": [
    {
     "name": "stdout",
     "output_type": "stream",
     "text": [
      "public key:  (43577, 123107)\n",
      "private key:  (17513, 123107)\n"
     ]
    }
   ],
   "source": [
    "print(\"public key: \", demo1.public_key)\n",
    "print(\"private key: \", demo1.private_key)"
   ]
  },
  {
   "cell_type": "markdown",
   "metadata": {},
   "source": [
    "We can direct our keys towards our own p,q,e or any combination and the remainder will be replaced with random values."
   ]
  },
  {
   "cell_type": "code",
   "execution_count": 73,
   "metadata": {},
   "outputs": [
    {
     "name": "stdout",
     "output_type": "stream",
     "text": [
      "RSA keys complete\n"
     ]
    }
   ],
   "source": [
    "demo2 = myRSA(701,101,128) # optional arguments for p,q,e"
   ]
  },
  {
   "cell_type": "code",
   "execution_count": 74,
   "metadata": {},
   "outputs": [
    {
     "name": "stdout",
     "output_type": "stream",
     "text": [
      "public key:  (129, 70801)\n",
      "private key:  (5969, 70801)\n"
     ]
    }
   ],
   "source": [
    "print(\"public key: \", demo2.public_key)\n",
    "print(\"private key: \", demo2.private_key)"
   ]
  },
  {
   "cell_type": "markdown",
   "metadata": {},
   "source": [
    "We can manipulate the upper bound for the random numbers for p and q.  The lower bound is the limit // 10, so if you use 1000 you can get 3 digit prime numbers and 10000 will give you four digit prime numbers."
   ]
  },
  {
   "cell_type": "code",
   "execution_count": 75,
   "metadata": {},
   "outputs": [
    {
     "name": "stdout",
     "output_type": "stream",
     "text": [
      "RSA keys complete\n",
      "RSA keys complete\n"
     ]
    }
   ],
   "source": [
    "demo3 = myRSA(limit=100)\n",
    "demo4 = myRSA(limit=10000)"
   ]
  },
  {
   "cell_type": "code",
   "execution_count": 76,
   "metadata": {},
   "outputs": [
    {
     "name": "stdout",
     "output_type": "stream",
     "text": [
      "demo 3 p: 43 q:  17\n"
     ]
    }
   ],
   "source": [
    "print(\"demo 3 p:\",demo3.p,\"q: \",demo3.q)"
   ]
  },
  {
   "cell_type": "code",
   "execution_count": 77,
   "metadata": {},
   "outputs": [
    {
     "name": "stdout",
     "output_type": "stream",
     "text": [
      "demo 4 p: 5189 q:  1543\n"
     ]
    }
   ],
   "source": [
    "print(\"demo 4 p:\",demo4.p,\"q: \",demo4.q)"
   ]
  },
  {
   "cell_type": "markdown",
   "metadata": {},
   "source": [
    "Here we have the primary methods, encode and decode which only take the message and cipher since n, e, and d are saved to the instance of the myRSA class.  "
   ]
  },
  {
   "cell_type": "code",
   "execution_count": 78,
   "metadata": {},
   "outputs": [],
   "source": [
    "class myRSA:\n",
    "    \n",
    "#---------------------------------------------------- ENCODE\n",
    "    def encode(self,msg):\n",
    "        e,n = self.public_key\n",
    "        cipher_text = []\n",
    "\n",
    "        # Convert letters to integers\n",
    "        m_list = myRSA.string_to_int_list(msg)\n",
    "\n",
    "        # Iterate through integers and encrypt each integer\n",
    "        for num in m_list:\n",
    "            c = myRSA.FME(num,e,n)\n",
    "            # Add them to the results list\n",
    "            cipher_text.append(c)\n",
    "\n",
    "        return cipher_text\n",
    "    \n",
    "    #---------------------------------------------------- DECODE\n",
    "    def decode(self,cipher):\n",
    "        d,n = self.private_key\n",
    "        message_list = []\n",
    "\n",
    "        # Iterate and decrypt each integer\n",
    "        for num in cipher:\n",
    "            m = myRSA.FME(num,d,n)\n",
    "            message_list.append(m)\n",
    "\n",
    "        # Convert integers back to text string    \n",
    "        message = myRSA.int_list_to_string(message_list)\n",
    "\n",
    "        return message\n",
    "    \n",
    "#---------------------------------------------------- CONSTRUCTOR\n",
    "    __init__ = myRSA.__init__\n",
    "#---------------------------------------------------- UTILITIES\n",
    "    string_to_int_list = myRSA.string_to_int_list\n",
    "    int_list_to_string = myRSA.int_list_to_string\n",
    "    FME = myRSA.FME\n",
    "    GCD = myRSA.GCD\n",
    "    EEA = myRSA.EEA\n",
    "    is_prime = myRSA.is_prime\n",
    "    make_prime = myRSA.make_prime"
   ]
  },
  {
   "cell_type": "code",
   "execution_count": 79,
   "metadata": {},
   "outputs": [
    {
     "name": "stdout",
     "output_type": "stream",
     "text": [
      "RSA keys complete\n"
     ]
    }
   ],
   "source": [
    "demo5 = myRSA()"
   ]
  },
  {
   "cell_type": "code",
   "execution_count": 80,
   "metadata": {},
   "outputs": [
    {
     "name": "stdout",
     "output_type": "stream",
     "text": [
      "[69938, 42758, 390028, 390028, 244206, 408371, 112246, 244206, 289483, 390028, 463945, 408371, 222326, 293418, 463945, 408371, 522189, 42758, 390028, 5916, 244206, 99488, 42758, 408371, 213786, 244206, 408371, 356926, 282713, 221682]\n",
      "Hello World and welcome to RSA\n"
     ]
    }
   ],
   "source": [
    "C = demo5.encode(\"Hello World and welcome to RSA\")\n",
    "M = demo5.decode(C)\n",
    "print(C)\n",
    "print(M)"
   ]
  },
  {
   "cell_type": "markdown",
   "metadata": {},
   "source": [
    "Next, I have added a method to generate new keys while keeping the instance the same.  I will use this later for codebreaking with someone else's public key.  It runs the constructor again."
   ]
  },
  {
   "cell_type": "code",
   "execution_count": 81,
   "metadata": {},
   "outputs": [],
   "source": [
    "class myRSA:\n",
    "#---------------------------------------------------- NEW KEYS\n",
    "    def new_keys(self,p=None,q=None,e=None,limit=None):\n",
    "        myRSA.__init__(self,p,q,e,limit)\n",
    "        \n",
    "#---------------------------------------------------- DECODE\n",
    "    decode = myRSA.decode\n",
    "#---------------------------------------------------- ENCODE\n",
    "    encode = myRSA.encode\n",
    "#---------------------------------------------------- CONSTRUCTOR\n",
    "    __init__ = myRSA.__init__\n",
    "#---------------------------------------------------- UTILITIES\n",
    "    string_to_int_list = myRSA.string_to_int_list\n",
    "    int_list_to_string = myRSA.int_list_to_string\n",
    "    FME = myRSA.FME\n",
    "    GCD = myRSA.GCD\n",
    "    EEA = myRSA.EEA\n",
    "    is_prime = myRSA.is_prime\n",
    "    make_prime = myRSA.make_prime"
   ]
  },
  {
   "cell_type": "code",
   "execution_count": 82,
   "metadata": {},
   "outputs": [
    {
     "name": "stdout",
     "output_type": "stream",
     "text": [
      "RSA keys complete\n"
     ]
    }
   ],
   "source": [
    "demo6 = myRSA()"
   ]
  },
  {
   "cell_type": "code",
   "execution_count": 83,
   "metadata": {},
   "outputs": [
    {
     "name": "stdout",
     "output_type": "stream",
     "text": [
      "(275273, 433793)\n",
      "(98153, 433793)\n"
     ]
    }
   ],
   "source": [
    "print(demo6.public_key)\n",
    "print(demo6.private_key)"
   ]
  },
  {
   "cell_type": "code",
   "execution_count": 84,
   "metadata": {},
   "outputs": [
    {
     "name": "stdout",
     "output_type": "stream",
     "text": [
      "RSA keys complete\n"
     ]
    }
   ],
   "source": [
    "demo6.new_keys()"
   ]
  },
  {
   "cell_type": "code",
   "execution_count": 85,
   "metadata": {},
   "outputs": [
    {
     "name": "stdout",
     "output_type": "stream",
     "text": [
      "(18303, 112711)\n",
      "(93895, 112711)\n"
     ]
    }
   ],
   "source": [
    "print(demo6.public_key)\n",
    "print(demo6.private_key)"
   ]
  },
  {
   "cell_type": "markdown",
   "metadata": {},
   "source": [
    "Next we will add Pollard's Rho as a helper function for code breaking."
   ]
  },
  {
   "cell_type": "code",
   "execution_count": 86,
   "metadata": {},
   "outputs": [],
   "source": [
    "class myRSA:\n",
    "#---------------------------------------------------- Pollard's Rho\n",
    "# Resource: Introduction to Algorithms Third Edition\n",
    "# by Cormen, Leiserson, Rivest, and Stein\n",
    "\n",
    "# The comments with numbers through out are from the pseudocode on page 976\n",
    "    def pollard_rho(n):\n",
    "        # 1 i=1\n",
    "        # initialize i\n",
    "        i = 0\n",
    "        x = []\n",
    "\n",
    "        # 2 x1 = RANDOM(0,n-1)\n",
    "        x.append(random.randint(0,n-1))\n",
    "\n",
    "        # 3 y=x_1\n",
    "        y = x[0]\n",
    "\n",
    "        # 4 k=2\n",
    "        k = 2\n",
    "\n",
    "        # 5 while TRUE\n",
    "        while(True):\n",
    "\n",
    "            # 6 i=i+1\n",
    "            i = i+1\n",
    "\n",
    "            # 7 x_i =(x^2_i-1)mod n\n",
    "            x.insert(i,(x[i-1]**2-1) % n)\n",
    "\n",
    "            # 8 d = gcd(y - x_i, n)\n",
    "            d = myRSA.GCD(y-x[i],n)\n",
    "\n",
    "            # 9 if d != 1 and d != n\n",
    "            if d != 1 and d != n:\n",
    "                # 10 print d \n",
    "                return d\n",
    "\n",
    "            # 11 if i == k \n",
    "            if i == k:\n",
    "\n",
    "                # 12 y = x_i\n",
    "                y = x[i]\n",
    "\n",
    "                # 13 k = 2k\n",
    "                k = 2*k\n",
    "    \n",
    "#---------------------------------------------------- NEW KEYS\n",
    "    new_keys = myRSA.new_keys     \n",
    "#---------------------------------------------------- DECODE\n",
    "    decode = myRSA.decode\n",
    "#---------------------------------------------------- ENCODE\n",
    "    encode = myRSA.encode\n",
    "#---------------------------------------------------- CONSTRUCTOR\n",
    "    __init__ = myRSA.__init__\n",
    "#---------------------------------------------------- UTILITIES\n",
    "    string_to_int_list = myRSA.string_to_int_list\n",
    "    int_list_to_string = myRSA.int_list_to_string\n",
    "    FME = myRSA.FME\n",
    "    GCD = myRSA.GCD\n",
    "    EEA = myRSA.EEA\n",
    "    is_prime = myRSA.is_prime\n",
    "    make_prime = myRSA.make_prime"
   ]
  },
  {
   "cell_type": "code",
   "execution_count": 87,
   "metadata": {},
   "outputs": [
    {
     "name": "stdout",
     "output_type": "stream",
     "text": [
      "701\n"
     ]
    }
   ],
   "source": [
    "print(myRSA.pollard_rho(241*701))"
   ]
  },
  {
   "cell_type": "code",
   "execution_count": 88,
   "metadata": {},
   "outputs": [
    {
     "name": "stdout",
     "output_type": "stream",
     "text": [
      "3343 7159 23932537\n"
     ]
    }
   ],
   "source": [
    "a,b = myRSA.make_prime(10000),myRSA.make_prime(10000)\n",
    "print(a,b,a*b)"
   ]
  },
  {
   "cell_type": "code",
   "execution_count": 89,
   "metadata": {},
   "outputs": [
    {
     "data": {
      "text/plain": [
       "3343"
      ]
     },
     "execution_count": 89,
     "metadata": {},
     "output_type": "execute_result"
    }
   ],
   "source": [
    "myRSA.pollard_rho(a*b)"
   ]
  },
  {
   "cell_type": "markdown",
   "metadata": {},
   "source": [
    "Now we create our code breaking method based on Pollard's Rho and the new keys method, we can feed a public key and create new properties and a private key to decode from someone else's environment."
   ]
  },
  {
   "cell_type": "code",
   "execution_count": 90,
   "metadata": {},
   "outputs": [],
   "source": [
    "class myRSA:\n",
    "#---------------------------------------------------- CODE BREAKING\n",
    "\n",
    "    def crack_private_key(self,n,e):\n",
    "        p = myRSA.pollard_rho(n)\n",
    "        q = n // p\n",
    "        print(\"public key cracked\")\n",
    "        self.new_keys(p,q,e)\n",
    "        return None\n",
    "    \n",
    "#---------------------------------------------------- Pollard's Rho\n",
    "    pollard_rho = myRSA.pollard_rho\n",
    "#---------------------------------------------------- NEW KEYS\n",
    "    new_keys = myRSA.new_keys     \n",
    "#---------------------------------------------------- DECODE\n",
    "    decode = myRSA.decode\n",
    "#---------------------------------------------------- ENCODE\n",
    "    encode = myRSA.encode\n",
    "#---------------------------------------------------- CONSTRUCTOR\n",
    "    __init__ = myRSA.__init__\n",
    "#---------------------------------------------------- UTILITIES\n",
    "    string_to_int_list = myRSA.string_to_int_list\n",
    "    int_list_to_string = myRSA.int_list_to_string\n",
    "    FME = myRSA.FME\n",
    "    GCD = myRSA.GCD\n",
    "    EEA = myRSA.EEA\n",
    "    is_prime = myRSA.is_prime\n",
    "    make_prime = myRSA.make_prime"
   ]
  },
  {
   "cell_type": "code",
   "execution_count": 91,
   "metadata": {},
   "outputs": [
    {
     "name": "stdout",
     "output_type": "stream",
     "text": [
      "RSA keys complete\n"
     ]
    }
   ],
   "source": [
    "demo6 = myRSA()"
   ]
  },
  {
   "cell_type": "code",
   "execution_count": 92,
   "metadata": {},
   "outputs": [
    {
     "name": "stdout",
     "output_type": "stream",
     "text": [
      "public key cracked\n",
      "RSA keys complete\n",
      "(281, 703)\n"
     ]
    }
   ],
   "source": [
    "demo6.crack_private_key(n=703, e=113)\n",
    "print(demo6.private_key)"
   ]
  },
  {
   "cell_type": "code",
   "execution_count": 93,
   "metadata": {},
   "outputs": [
    {
     "name": "stdout",
     "output_type": "stream",
     "text": [
      "The Conquistador's treasure is buried south of Creed.\n"
     ]
    }
   ],
   "source": [
    "C = [544, 472, 233, 242, 250, 555, 591, 550, 376, 364, 210, 165, 526, 47, 555, 95, 476, 210, 242, 165, 95, 233, 526, 210, 376, 95, 233, 242, 364, 210, 242, 224, 376, 95, 364, 233, 47, 242, 210, 555, 376, 165, 472, 242, 555, 410, 242, 250, 95, 233, 233, 47, 145]\n",
    "M = demo6.decode(C)\n",
    "print(M)"
   ]
  },
  {
   "cell_type": "markdown",
   "metadata": {},
   "source": [
    "Finally, I made a few methods to help remember the names of the methods and also to retrieve a public key to send out for a message, (obviously we wouldn't someone to access the private key so I did not make a method for that.)"
   ]
  },
  {
   "cell_type": "code",
   "execution_count": 94,
   "metadata": {},
   "outputs": [],
   "source": [
    "class myRSA:\n",
    "#---------------------------------------------------- PRINTING\n",
    "    def __str__(self):\n",
    "        return \"\"\"myRSA Encryption Instance\\n\n",
    "        Methods:\\n\n",
    "        get_public_key\\n\n",
    "        new_keys\\n\n",
    "        encode\\n\n",
    "        decode\\n\n",
    "        crack_private_key\"\"\"\n",
    "    \n",
    "    def get_public_key(self):\n",
    "        return \"Public Key: (e,n) \"+str(self.public_key)\n",
    "    \n",
    "#---------------------------------------------------- CODE BREAKING\n",
    "    crack_private_key = myRSA.crack_private_key\n",
    "#---------------------------------------------------- Pollard's Rho\n",
    "    pollard_rho = myRSA.pollard_rho\n",
    "#---------------------------------------------------- NEW KEYS\n",
    "    new_keys = myRSA.new_keys     \n",
    "#---------------------------------------------------- DECODE\n",
    "    decode = myRSA.decode\n",
    "#---------------------------------------------------- ENCODE\n",
    "    encode = myRSA.encode\n",
    "#---------------------------------------------------- CONSTRUCTOR\n",
    "    __init__ = myRSA.__init__\n",
    "#---------------------------------------------------- UTILITIES\n",
    "    string_to_int_list = myRSA.string_to_int_list\n",
    "    int_list_to_string = myRSA.int_list_to_string\n",
    "    FME = myRSA.FME\n",
    "    GCD = myRSA.GCD\n",
    "    EEA = myRSA.EEA\n",
    "    is_prime = myRSA.is_prime\n",
    "    make_prime = myRSA.make_prime"
   ]
  },
  {
   "cell_type": "markdown",
   "metadata": {},
   "source": [
    "### Full Demos"
   ]
  },
  {
   "cell_type": "code",
   "execution_count": 95,
   "metadata": {},
   "outputs": [
    {
     "name": "stdout",
     "output_type": "stream",
     "text": [
      "RSA keys complete\n"
     ]
    }
   ],
   "source": [
    "big_lebowski_1 = myRSA()"
   ]
  },
  {
   "cell_type": "code",
   "execution_count": 96,
   "metadata": {},
   "outputs": [
    {
     "name": "stdout",
     "output_type": "stream",
     "text": [
      "myRSA Encryption Instance\n",
      "\n",
      "        Methods:\n",
      "\n",
      "        get_public_key\n",
      "\n",
      "        new_keys\n",
      "\n",
      "        encode\n",
      "\n",
      "        decode\n",
      "\n",
      "        crack_private_key\n"
     ]
    }
   ],
   "source": [
    "print(big_lebowski_1)"
   ]
  },
  {
   "cell_type": "code",
   "execution_count": 97,
   "metadata": {},
   "outputs": [
    {
     "data": {
      "text/plain": [
       "'Public Key: (e,n) (9157, 104617)'"
      ]
     },
     "execution_count": 97,
     "metadata": {},
     "output_type": "execute_result"
    }
   ],
   "source": [
    "big_lebowski_1.get_public_key()"
   ]
  },
  {
   "cell_type": "markdown",
   "metadata": {},
   "source": [
    "I like to think that this is a secret encrypted conversation from the movie The Big Lebowski."
   ]
  },
  {
   "cell_type": "code",
   "execution_count": 98,
   "metadata": {},
   "outputs": [
    {
     "name": "stdout",
     "output_type": "stream",
     "text": [
      "[45271, 37966, 61627, 37966, 98468, 73757, 65301, 32748, 98468, 91171, 19759, 15338, 53928, 37966, 72339, 19759, 72339, 76806, 98468, 53928, 65301, 98468, 36889, 34499, 37966, 98468, 64142, 32748, 75846, 37966, 84942, 15338, 98468, 15338, 53928, 65301, 61627, 73757, 42401, 98468, 64142, 65301, 72339, 72339, 73757, 25646] [45271, 34499, 93103, 53928, 25646] [45271, 37966, 61627, 37966, 98468, 73757, 65301, 32748, 98468, 91171, 19759, 15338, 53928, 37966, 72339, 19759, 72339, 76806, 98468, 53928, 65301, 98468, 36889, 34499, 37966, 98468, 64142, 32748, 75846, 37966, 84942, 15338, 98468, 15338, 53928, 65301, 61627, 73757, 25646] [8876, 98468, 27612, 93103, 15338, 98468, 10943, 65301, 27612, 91171, 19759, 72339, 76806, 71582] [80671, 65301, 98468, 73757, 65301, 32748, 98468, 34499, 93103, 14486, 37966, 98468, 72339, 65301, 98468, 26446, 61627, 93103, 10652, 37966, 98468, 65301, 26446, 98468, 61627, 37966, 26446, 37966, 61627, 37966, 72339, 91724, 37966, 98468, 34499, 37966, 61627, 37966, 42401, 98468, 64142, 65301, 72339, 72339, 73757, 71582, 98468, 25719, 65301, 32748, 84942, 61627, 37966, 98468, 91171, 19759, 98588, 37966, 98468, 93103, 98468, 91724, 34499, 19759, 91171, 75846, 98468, 27612, 34499, 65301, 98468, 27612, 93103, 72339, 75846, 37966, 61627, 15338, 98468, 19759, 72339, 53928, 65301, 98468, 53928, 34499, 37966, 98468, 10652, 19759, 75846, 75846, 91171, 37966, 98468, 65301, 26446, 98468, 93103, 98468, 10652, 65301, 14486, 19759, 37966, 98468, 93103, 72339, 75846, 98468, 27612, 93103, 72339, 53928, 15338, 98468, 53928, 65301, 98468, 98588, 72339, 65301, 27612, 71582, 71582, 71582] [2333, 19759, 72339, 53928, 37966, 61627, 61627, 32748, 31559, 53928, 19759, 72339, 76806, 16101, 98468, 45271, 93103, 91171, 53928, 37966, 61627, 42401, 98468, 45271, 93103, 91171, 53928, 37966, 61627, 42401, 98468, 27612, 34499, 93103, 53928, 84942, 15338, 98468, 53928, 34499, 37966, 98468, 31559, 65301, 19759, 72339, 53928, 42401, 98468, 10652, 93103, 72339, 25646] [36889, 34499, 37966, 61627, 37966, 84942, 15338, 98468, 72339, 65301, 98468, 61627, 37966, 93103, 15338, 65301, 72339, 98468, 90150, 98468, 34499, 37966, 61627, 37966, 84942, 15338, 98468, 10652, 73757, 98468, 31559, 65301, 19759, 72339, 53928, 42401, 98468, 75846, 32748, 75846, 37966, 42401, 98468, 53928, 34499, 37966, 61627, 37966, 84942, 15338, 98468, 72339, 65301, 98468, 61627, 37966, 93103, 15338, 65301, 72339, 98468, 27612, 34499, 73757, 98468, 53928, 34499, 37966, 15338, 37966, 98468, 53928, 27612, 65301, 71582, 71582, 71582] [25719, 37966, 93103, 34499, 42401, 98468, 45271, 93103, 91171, 53928, 37966, 61627, 42401, 98468, 27612, 34499, 93103, 53928, 84942, 15338, 98468, 73757, 65301, 32748, 61627, 98468, 31559, 65301, 19759, 72339, 53928, 25646]\n"
     ]
    }
   ],
   "source": [
    "m_1 = \"Were you listening to The Dude's story, Donny?\"\n",
    "m_2 = \"What?\"\n",
    "m_3 = \"Were you listening to The Dude's story?\"\n",
    "m_4 = \"I was bowling.\"\n",
    "m_5 = \"So you have no frame of reference here, Donny. You're like a child who wanders into the middle of a movie and wants to know...\"\n",
    "m_6 = \"(interrupting) Walter, Walter, what's the point, man?\"\n",
    "m_7 = \"There's no reason - here's my point, dude, there's no reason why these two...\"\n",
    "m_8 = \"Yeah, Walter, what's your point?\"\n",
    "c_1 = big_lebowski_1.encode(m_1)\n",
    "c_2 = big_lebowski_1.encode(m_2)\n",
    "c_3 = big_lebowski_1.encode(m_3)\n",
    "c_4 = big_lebowski_1.encode(m_4)\n",
    "c_5 = big_lebowski_1.encode(m_5)\n",
    "c_6 = big_lebowski_1.encode(m_6)\n",
    "c_7 = big_lebowski_1.encode(m_7)\n",
    "c_8 = big_lebowski_1.encode(m_8)\n",
    "print(c_1,c_2,c_3,c_4,c_5,c_6,c_7,c_8)"
   ]
  },
  {
   "cell_type": "code",
   "execution_count": 99,
   "metadata": {},
   "outputs": [
    {
     "name": "stdout",
     "output_type": "stream",
     "text": [
      "Were you listening to The Dude's story, Donny?\n",
      "What?\n",
      "Were you listening to The Dude's story?\n",
      "I was bowling.\n",
      "So you have no frame of reference here, Donny. You're like a child who wanders into the middle of a movie and wants to know...\n",
      "(interrupting) Walter, Walter, what's the point, man?\n",
      "There's no reason - here's my point, dude, there's no reason why these two...\n",
      "Yeah, Walter, what's your point?\n"
     ]
    }
   ],
   "source": [
    "print(big_lebowski_1.decode(c_1))\n",
    "print(big_lebowski_1.decode(c_2))\n",
    "print(big_lebowski_1.decode(c_3))\n",
    "print(big_lebowski_1.decode(c_4))\n",
    "print(big_lebowski_1.decode(c_5))\n",
    "print(big_lebowski_1.decode(c_6))\n",
    "print(big_lebowski_1.decode(c_7))\n",
    "print(big_lebowski_1.decode(c_8))"
   ]
  },
  {
   "cell_type": "code",
   "execution_count": 100,
   "metadata": {},
   "outputs": [
    {
     "name": "stdout",
     "output_type": "stream",
     "text": [
      "RSA keys complete\n"
     ]
    }
   ],
   "source": [
    "monty_python_holy_grail = myRSA(limit=10000)"
   ]
  },
  {
   "cell_type": "code",
   "execution_count": 101,
   "metadata": {},
   "outputs": [
    {
     "data": {
      "text/plain": [
       "'Public Key: (e,n) (21127061, 32773033)'"
      ]
     },
     "execution_count": 101,
     "metadata": {},
     "output_type": "execute_result"
    }
   ],
   "source": [
    "monty_python_holy_grail.get_public_key()"
   ]
  },
  {
   "cell_type": "code",
   "execution_count": 102,
   "metadata": {},
   "outputs": [
    {
     "name": "stdout",
     "output_type": "stream",
     "text": [
      "RSA keys complete\n"
     ]
    }
   ],
   "source": [
    "monty_python_holy_grail.new_keys(limit=100)"
   ]
  },
  {
   "cell_type": "code",
   "execution_count": 103,
   "metadata": {},
   "outputs": [
    {
     "data": {
      "text/plain": [
       "'Public Key: (e,n) (1861, 4897)'"
      ]
     },
     "execution_count": 103,
     "metadata": {},
     "output_type": "execute_result"
    }
   ],
   "source": [
    "monty_python_holy_grail.get_public_key()"
   ]
  },
  {
   "cell_type": "code",
   "execution_count": 104,
   "metadata": {},
   "outputs": [
    {
     "name": "stdout",
     "output_type": "stream",
     "text": [
      "[3468, 1188, 1535, 1722, 2884, 853, 1236, 3930, 2621, 1722, 1236, 2884, 1823, 2621, 155, 4380, 1722, 1535, 1188, 3047, 853, 2144, 538, 1722, 1236, 2621, 1416, 155, 3047, 2884, 1236, 3047, 538, 1932] [2343, 3072, 1823, 2884, 1722, 3110, 3126, 853, 1722, 1236, 1722, 2884, 2609, 3047, 1236, 853, 2609, 2144, 1932] [2584, 1722, 2884, 2609, 3047, 1236, 853, 2609, 2144, 4092, 1722, 378, 1188, 3126, 3047, 1722, 1236, 3047, 777, 2343, 2884, 1722, 1188, 3453, 3453, 1932] [3468, 1188, 4380, 1722, 1823, 853, 1722, 1823, 2884, 3930, 2343, 853, 1233] [658, 2144, 1236, 853, 2343, 2884, 1722, 853, 2144, 1236, 853, 4380, 1722, 853, 2144, 155, 3930, 4092] [4700, 2343, 1416, 155, 1722, 2144, 1236, 2621, 1722, 1535, 1188, 3047, 2884, 155, 1233] [378, 1188, 3126, 1722, 241, 1823, 1236, 3047, 1932] [4861, 1188, 777, 155, 1722, 1188, 3930, 4380, 1722, 538, 1188, 3126, 1722, 425, 1236, 3930, 2884, 538, 1932]\n"
     ]
    }
   ],
   "source": [
    "mp_1 = \"Now stand aside, worthy adversary!\"\n",
    "mp_2 = \"'Tis but a scratch!\"\n",
    "mp_3 = \"A scratch? Your arm's off!\"\n",
    "mp_4 = \"No, it isn't.\"\n",
    "mp_5 = \"What's that, then?\"\n",
    "mp_6 = \"I've had worse.\"\n",
    "mp_7 = \"You liar!\"\n",
    "mp_8 = \"Come on, you pansy!\"\n",
    "mc_1 = monty_python_holy_grail.encode(mp_1)\n",
    "mc_2 = monty_python_holy_grail.encode(mp_2)\n",
    "mc_3 = monty_python_holy_grail.encode(mp_3)\n",
    "mc_4 = monty_python_holy_grail.encode(mp_4)\n",
    "mc_5 = monty_python_holy_grail.encode(mp_5)\n",
    "mc_6 = monty_python_holy_grail.encode(mp_6)\n",
    "mc_7 = monty_python_holy_grail.encode(mp_7)\n",
    "mc_8 = monty_python_holy_grail.encode(mp_8)\n",
    "print(mc_1,mc_2,mc_3,mc_4,mc_5,mc_6,mc_7,mc_8)"
   ]
  },
  {
   "cell_type": "code",
   "execution_count": 105,
   "metadata": {},
   "outputs": [
    {
     "name": "stdout",
     "output_type": "stream",
     "text": [
      "Now stand aside, worthy adversary!\n",
      "'Tis but a scratch!\n",
      "A scratch? Your arm's off!\n",
      "No, it isn't.\n",
      "What's that, then?\n",
      "I've had worse.\n",
      "You liar!\n",
      "Come on, you pansy!\n"
     ]
    }
   ],
   "source": [
    "print(monty_python_holy_grail.decode(mc_1))\n",
    "print(monty_python_holy_grail.decode(mc_2))\n",
    "print(monty_python_holy_grail.decode(mc_3))\n",
    "print(monty_python_holy_grail.decode(mc_4))\n",
    "print(monty_python_holy_grail.decode(mc_5))\n",
    "print(monty_python_holy_grail.decode(mc_6))\n",
    "print(monty_python_holy_grail.decode(mc_7))\n",
    "print(monty_python_holy_grail.decode(mc_8))"
   ]
  },
  {
   "cell_type": "code",
   "execution_count": 106,
   "metadata": {},
   "outputs": [
    {
     "name": "stdout",
     "output_type": "stream",
     "text": [
      "RSA keys complete\n"
     ]
    }
   ],
   "source": [
    "code_break_1 = myRSA()"
   ]
  },
  {
   "cell_type": "code",
   "execution_count": 107,
   "metadata": {},
   "outputs": [
    {
     "name": "stdout",
     "output_type": "stream",
     "text": [
      "public key cracked\n",
      "RSA keys complete\n"
     ]
    },
    {
     "data": {
      "text/plain": [
       "'Public Key: (e,n) (8684999, 29917061)'"
      ]
     },
     "execution_count": 107,
     "metadata": {},
     "output_type": "execute_result"
    }
   ],
   "source": [
    "#Thomas Dunn 1 week ago\n",
    "n, e = 29917061, 8684999 #Public Key\n",
    "\n",
    "Cipher = [22287915, 9078012, 17453490, 17453490, 14264532, 24523837, 985919, 6341542, 17441500, 5831276, 9066565, 12008286, 9078012, 6341542, 9066565, 985919, 6341542, 17441500, 5831276, 29026233, 29334782, 28836202, 29334782, 25597531, 14264532, 6341542, 12008286, 14264532, 6341542, 11639104, 28836202, 7800891, 29026233, 5831276, 9066565, 20457492, 9078012, 15992531, 6341542, 6341542, 24846263, 12106619, 29650399, 23100921, 13584848, 9668251, 18965502, 15992531, 6341542, 6341542, 15697184, 3102918, 28836202, 17453490, 28615097, 985919, 6341542, 15697184, 29026233, 12008286, 12008286, 14264532, 6341542, 15697184, 15040546, 20457492, 29026233, 17453490, 9078012, 22072925]\n",
    "\n",
    "code_break_1.crack_private_key(n,e)\n",
    "code_break_1.get_public_key()"
   ]
  },
  {
   "cell_type": "code",
   "execution_count": 108,
   "metadata": {},
   "outputs": [
    {
     "name": "stdout",
     "output_type": "stream",
     "text": [
      "Jenny's prime is probably my favorite.  8675309.  Thanks Tommy Tutone!\n"
     ]
    }
   ],
   "source": [
    "print(code_break_1.decode(Cipher))"
   ]
  },
  {
   "cell_type": "code",
   "execution_count": 109,
   "metadata": {},
   "outputs": [
    {
     "name": "stdout",
     "output_type": "stream",
     "text": [
      "RSA keys complete\n"
     ]
    }
   ],
   "source": [
    "code_break_2 = myRSA()"
   ]
  },
  {
   "cell_type": "code",
   "execution_count": 110,
   "metadata": {},
   "outputs": [
    {
     "name": "stdout",
     "output_type": "stream",
     "text": [
      "public key cracked\n",
      "RSA keys complete\n",
      "(201049, 321173)\n"
     ]
    }
   ],
   "source": [
    "#Ashley Montgomery 5 days ago\n",
    "n, e = 321173 , 164137     #Public Key\n",
    "\n",
    "C = [141013, 291818, 37053, 320527, 291150, 247024, 192346, 291150, 320527, 291818, 52, 291150, 123011, 52, 192346, 320527, 291150, 291818, 247024, 270878, 52, 291150, 207737, 52, 37053, 229153, 291150, 190683, 52, 207737, 162009, 52, 229153, 319648]\n",
    "\n",
    "code_break_2.crack_private_key(n,e)\n",
    "code_break_2.get_public_key()\n",
    "print(code_break_2.private_key)"
   ]
  },
  {
   "cell_type": "code",
   "execution_count": 111,
   "metadata": {},
   "outputs": [
    {
     "name": "stdout",
     "output_type": "stream",
     "text": [
      "What is the best hike near Denver?\n"
     ]
    }
   ],
   "source": [
    "print(code_break_2.decode(C))"
   ]
  },
  {
   "cell_type": "markdown",
   "metadata": {},
   "source": [
    "**Please use the grading guide below to self grade your Custom Feature.**\n",
    "\n",
    "GRADING FOR CUSTOM FEATURE:\n",
    "\n",
    "15 pts  Wow.  It is amazing.\n",
    "        Shows initiative and originality. \n",
    "        You did something extra special and pushed yourself.\n",
    "        You went beyond all expectations \n",
    "        You broke the rules in a creative way. \n",
    "        Your coding and commenting is exceptional.\n",
    "        Excellent \n",
    "\n",
    "10 - 14 points - It is GOOD! \n",
    "        You were a “self starter.” \n",
    "         You did everything  requested. \n",
    "        All expectations met. \n",
    "       \tYou did a very good job. \n",
    "        Good use of commenting.\n",
    "        Shows mastery of skills.\n",
    "\n",
    "5 -10 points  - Okay.\n",
    "        Minimum requirements.\n",
    "        Commenting weak.\n",
    "\n",
    "0 -5 points - It is not finished. \n",
    "          Does meet objectives. \n",
    "            Did not follow directions. \n",
    "            Chose not to do this part (which is a totally fine choice)\n"
   ]
  },
  {
   "cell_type": "markdown",
   "metadata": {},
   "source": [
    "encode## Self grading of custom feature ##\n",
    "\n",
    "Here in this block, please rate what score out of 15 your custom feature merits given the criteria above:\n",
    "\n",
    "* For example, if you are brand new to programming, using a main function could be an amazing feature - tell me how this helped you move to a new level.\n",
    "* In what ways did you push yourself? Did you try something you've never done before?\n",
    "* Alternatively, if you just did not have the time to do the custum feature, that is actually just fine and a reasonable choice for an adult. No judgment."
   ]
  },
  {
   "cell_type": "markdown",
   "metadata": {},
   "source": [
    "**Self Grading**\n",
    "\n",
    "I would give myself a 14/15.  The amount of features I added, the thought taken to turn the project in to a class as well as studying pollard's rho all added up to above and beyond effort and time spent.  I did not pick a 15/15 because in hindsight I wish that my efforts and time were united behind one custom feature rather than what ended up being 3ish.\n",
    "\n",
    "I think higher level algorithms are something I struggle with and why I thought that studying pollard's rho would be a good venture for the project.  My OCD kicked in when turning the process in to a class and I had to dust off some old python projects to remember how to make static methods, class methods, and python classes.  I am glad I did that review because I can see myself using it for another class.  \n",
    "\n",
    "I pushed myself trying to reorganize and redevelop the entire project.  I pushed myself trying to understand and implement Pollard's Rho.  I pushed myself by continuing to add custom features that helped abstract the process for the user, (random primes and optional arguments).\n",
    "\n",
    "I am an adult but I do not always make reasonable choices."
   ]
  },
  {
   "cell_type": "code",
   "execution_count": null,
   "metadata": {},
   "outputs": [],
   "source": []
  }
 ],
 "metadata": {
  "kernelspec": {
   "display_name": "Python 3 (ipykernel)",
   "language": "python",
   "name": "python3"
  },
  "language_info": {
   "codemirror_mode": {
    "name": "ipython",
    "version": 3
   },
   "file_extension": ".py",
   "mimetype": "text/x-python",
   "name": "python",
   "nbconvert_exporter": "python",
   "pygments_lexer": "ipython3",
   "version": "3.10.8"
  }
 },
 "nbformat": 4,
 "nbformat_minor": 4
}
